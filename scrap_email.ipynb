{
  "nbformat": 4,
  "nbformat_minor": 0,
  "metadata": {
    "colab": {
      "name": "scrap email.ipynb",
      "provenance": [],
      "authorship_tag": "ABX9TyOvq4XGVF2ewPtviILJub3c",
      "include_colab_link": true
    },
    "kernelspec": {
      "name": "python3",
      "display_name": "Python 3"
    },
    "language_info": {
      "name": "python"
    }
  },
  "cells": [
    {
      "cell_type": "markdown",
      "metadata": {
        "id": "view-in-github",
        "colab_type": "text"
      },
      "source": [
        "<a href=\"https://colab.research.google.com/github/komaltp/project/blob/main/scrap_email.ipynb\" target=\"_parent\"><img src=\"https://colab.research.google.com/assets/colab-badge.svg\" alt=\"Open In Colab\"/></a>"
      ]
    },
    {
      "cell_type": "code",
      "source": [
        "from bs4 import BeautifulSoup\n",
        "import requests\n",
        "import requests.exceptions\n",
        "import urllib.parse\n",
        "from collections import deque\n",
        "import re\n",
        "import pandas as pd\n",
        "from google.colab import files\n",
        "\n",
        "\n",
        "user_url = str(input('[+] Enter target URL to scan: '))\n",
        "urls = deque([user_url])\n",
        "\n",
        "scraped_urls = set()\n",
        "emails = set()\n",
        "\n",
        "count = 0\n",
        "try:\n",
        "  while len(urls):\n",
        "    count += 1\n",
        "    if count == 200:\n",
        "      break\n",
        "    url = urls.popleft()\n",
        "    scraped_urls.add(url)\n",
        "\n",
        "    parts = urllib.parse.urlsplit(url)\n",
        "    base_url = '{0.scheme}://{0.netloc}'.format(parts)\n",
        "\n",
        "    path = url[:url.rfind('/')+1] if '/' in parts.path else url\n",
        "\n",
        "    print('[%d] Processing %s' % (count, url))\n",
        "    try:\n",
        "      response = requests.get(url)\n",
        "    except (requests.exceptions.MissingSchema, requests.exceptions.ConnectionError):\n",
        "      continue\n",
        "\n",
        "    new_emails = set(re.findall(r'[a-z0-9\\.\\-+_]+@[a-z0-9\\.\\-+_]+\\.[a-z]+', response.text, re.I))\n",
        "    emails.update(new_emails)\n",
        "    #print(emails)\n",
        "    soup = BeautifulSoup(response.text, features=\"lxml\")\n",
        "\n",
        "    for anchor in soup.find_all(\"a\"):\n",
        "      link = anchor.attrs['href'] if 'href' in anchor.attrs else ''\n",
        "      if link.startswith('/'):\n",
        "        link = base_url + link\n",
        "      elif not link.startswith('http'):\n",
        "        link = path + link\n",
        "      if not link in urls and not link in scraped_urls:\n",
        "        urls.append(link)\n",
        "except KeyboardInterrupt:\n",
        "  print('[-] Closing!')\n",
        "\n",
        "for mail in emails:\n",
        "  print(mail)\n",
        "df = pd.DataFrame(emails, columns=[\"Email\"])\n",
        "df.to_csv('email.csv', index=False)\n",
        "\n",
        "files.download(\"email.csv\")"
      ],
      "metadata": {
        "colab": {
          "base_uri": "https://localhost:8080/",
          "height": 139
        },
        "id": "3xWV48v0cywu",
        "outputId": "5891c804-7f43-4d08-d512-09365a2caa67"
      },
      "execution_count": null,
      "outputs": [
        {
          "output_type": "stream",
          "name": "stdout",
          "text": [
            "[+] Enter target URL to scan: https://www.amazon.de/dp/000004458X\n",
            "[1] Processing https://www.amazon.de/dp/000004458X\n",
            "[2] Processing https://www.amazon.de/ref=cs_503_logo/\n",
            "[3] Processing https://www.amazon.de/ref=cs_503_link/\n",
            "[4] Processing https://www.amazon.de/gp/help/customer/display.html/ref=footer_cou/275-2496043-9483305?ie=UTF8&nodeId=505048\n",
            "[5] Processing https://www.amazon.de/gp/help/customer/display.html/ref=footer_privacy?ie=UTF8&nodeId=3312401\n",
            "api-services-support@amazon.com\n"
          ]
        },
        {
          "output_type": "display_data",
          "data": {
            "text/plain": [
              "<IPython.core.display.Javascript object>"
            ],
            "application/javascript": [
              "\n",
              "    async function download(id, filename, size) {\n",
              "      if (!google.colab.kernel.accessAllowed) {\n",
              "        return;\n",
              "      }\n",
              "      const div = document.createElement('div');\n",
              "      const label = document.createElement('label');\n",
              "      label.textContent = `Downloading \"${filename}\": `;\n",
              "      div.appendChild(label);\n",
              "      const progress = document.createElement('progress');\n",
              "      progress.max = size;\n",
              "      div.appendChild(progress);\n",
              "      document.body.appendChild(div);\n",
              "\n",
              "      const buffers = [];\n",
              "      let downloaded = 0;\n",
              "\n",
              "      const channel = await google.colab.kernel.comms.open(id);\n",
              "      // Send a message to notify the kernel that we're ready.\n",
              "      channel.send({})\n",
              "\n",
              "      for await (const message of channel.messages) {\n",
              "        // Send a message to notify the kernel that we're ready.\n",
              "        channel.send({})\n",
              "        if (message.buffers) {\n",
              "          for (const buffer of message.buffers) {\n",
              "            buffers.push(buffer);\n",
              "            downloaded += buffer.byteLength;\n",
              "            progress.value = downloaded;\n",
              "          }\n",
              "        }\n",
              "      }\n",
              "      const blob = new Blob(buffers, {type: 'application/binary'});\n",
              "      const a = document.createElement('a');\n",
              "      a.href = window.URL.createObjectURL(blob);\n",
              "      a.download = filename;\n",
              "      div.appendChild(a);\n",
              "      a.click();\n",
              "      div.remove();\n",
              "    }\n",
              "  "
            ]
          },
          "metadata": {}
        },
        {
          "output_type": "display_data",
          "data": {
            "text/plain": [
              "<IPython.core.display.Javascript object>"
            ],
            "application/javascript": [
              "download(\"download_e80be923-4219-4863-acb3-16af2c320714\", \"email.csv\", 38)"
            ]
          },
          "metadata": {}
        }
      ]
    }
  ]
}