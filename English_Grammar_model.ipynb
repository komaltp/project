{
  "cells": [
    {
      "cell_type": "markdown",
      "metadata": {
        "id": "view-in-github",
        "colab_type": "text"
      },
      "source": [
        "<a href=\"https://colab.research.google.com/github/komaltp/project/blob/main/English_Grammar_model.ipynb\" target=\"_parent\"><img src=\"https://colab.research.google.com/assets/colab-badge.svg\" alt=\"Open In Colab\"/></a>"
      ]
    },
    {
      "cell_type": "code",
      "execution_count": null,
      "metadata": {
        "id": "6TSO3t3wlVp4"
      },
      "outputs": [],
      "source": [
        "import pandas as pd\n",
        "import numpy as np\n",
        "import os\n",
        "import re\n",
        "import matplotlib.pyplot as plt\n",
        "import seaborn as sns\n",
        "import warnings \n",
        "warnings.filterwarnings('ignore')\n",
        "from tqdm import tqdm \n",
        "import tensorflow as tf\n",
        "from  tensorflow.keras.preprocessing.sequence import pad_sequences\n",
        "from  sklearn.model_selection import train_test_split\n",
        "from tqdm import tqdm\n",
        "import csv"
      ]
    },
    {
      "cell_type": "code",
      "execution_count": null,
      "metadata": {
        "colab": {
          "base_uri": "https://localhost:8080/",
          "height": 485
        },
        "id": "v1Qolt-ylege",
        "outputId": "124287a4-2a2d-46e5-8b83-dd7c75e7ffb3"
      },
      "outputs": [
        {
          "output_type": "execute_result",
          "data": {
            "text/plain": [
              "                                              enc_input  \\\n",
              "0                                    I we be back soon.   \n",
              "1                                   I will e back soon.   \n",
              "2                                      u are in my way.   \n",
              "3            I might give up soon and just nap instead.   \n",
              "4                                           Are u sure?   \n",
              "...                                                 ...   \n",
              "5136  If the plug becomes dirty, wipe it off with a ...   \n",
              "5137                         She slammed the door shut.   \n",
              "5138                      My father's going to kill me.   \n",
              "5139                It's popular among senior citizens.   \n",
              "5140                                    He's in prison.   \n",
              "\n",
              "                                              dec_input    y  \\\n",
              "0                                  I will be back soon.  1.0   \n",
              "1                                  I will be back soon.  1.0   \n",
              "2                                    You are in my way.  1.0   \n",
              "3              I may give up soon and just nap instead.  1.0   \n",
              "4                                         Are you sure?  1.0   \n",
              "...                                                 ...  ...   \n",
              "5136  If the plug becomes dirty, wipe it off with a ...  NaN   \n",
              "5137                         She slammed the door shut.  NaN   \n",
              "5138                      My father's going to kill me.  NaN   \n",
              "5139                It's popular among senior citizens.  NaN   \n",
              "5140                                    He's in prison.  NaN   \n",
              "\n",
              "                                             dec_output  \n",
              "0                                  I will be back soon.  \n",
              "1                                  I will be back soon.  \n",
              "2                                    You are in my way.  \n",
              "3              I may give up soon and just nap instead.  \n",
              "4                                         Are you sure?  \n",
              "...                                                 ...  \n",
              "5136  If the plug becomes dirty, wipe it off with a ...  \n",
              "5137                         She slammed the door shut.  \n",
              "5138                      My father's going to kill me.  \n",
              "5139                It's popular among senior citizens.  \n",
              "5140                                    He's in prison.  \n",
              "\n",
              "[5141 rows x 4 columns]"
            ],
            "text/html": [
              "\n",
              "  <div id=\"df-eae079f9-e1b6-44da-bc76-b2282587d1d4\">\n",
              "    <div class=\"colab-df-container\">\n",
              "      <div>\n",
              "<style scoped>\n",
              "    .dataframe tbody tr th:only-of-type {\n",
              "        vertical-align: middle;\n",
              "    }\n",
              "\n",
              "    .dataframe tbody tr th {\n",
              "        vertical-align: top;\n",
              "    }\n",
              "\n",
              "    .dataframe thead th {\n",
              "        text-align: right;\n",
              "    }\n",
              "</style>\n",
              "<table border=\"1\" class=\"dataframe\">\n",
              "  <thead>\n",
              "    <tr style=\"text-align: right;\">\n",
              "      <th></th>\n",
              "      <th>enc_input</th>\n",
              "      <th>dec_input</th>\n",
              "      <th>y</th>\n",
              "      <th>dec_output</th>\n",
              "    </tr>\n",
              "  </thead>\n",
              "  <tbody>\n",
              "    <tr>\n",
              "      <th>0</th>\n",
              "      <td>I we be back soon.</td>\n",
              "      <td>I will be back soon.</td>\n",
              "      <td>1.0</td>\n",
              "      <td>I will be back soon.</td>\n",
              "    </tr>\n",
              "    <tr>\n",
              "      <th>1</th>\n",
              "      <td>I will e back soon.</td>\n",
              "      <td>I will be back soon.</td>\n",
              "      <td>1.0</td>\n",
              "      <td>I will be back soon.</td>\n",
              "    </tr>\n",
              "    <tr>\n",
              "      <th>2</th>\n",
              "      <td>u are in my way.</td>\n",
              "      <td>You are in my way.</td>\n",
              "      <td>1.0</td>\n",
              "      <td>You are in my way.</td>\n",
              "    </tr>\n",
              "    <tr>\n",
              "      <th>3</th>\n",
              "      <td>I might give up soon and just nap instead.</td>\n",
              "      <td>I may give up soon and just nap instead.</td>\n",
              "      <td>1.0</td>\n",
              "      <td>I may give up soon and just nap instead.</td>\n",
              "    </tr>\n",
              "    <tr>\n",
              "      <th>4</th>\n",
              "      <td>Are u sure?</td>\n",
              "      <td>Are you sure?</td>\n",
              "      <td>1.0</td>\n",
              "      <td>Are you sure?</td>\n",
              "    </tr>\n",
              "    <tr>\n",
              "      <th>...</th>\n",
              "      <td>...</td>\n",
              "      <td>...</td>\n",
              "      <td>...</td>\n",
              "      <td>...</td>\n",
              "    </tr>\n",
              "    <tr>\n",
              "      <th>5136</th>\n",
              "      <td>If the plug becomes dirty, wipe it off with a ...</td>\n",
              "      <td>If the plug becomes dirty, wipe it off with a ...</td>\n",
              "      <td>NaN</td>\n",
              "      <td>If the plug becomes dirty, wipe it off with a ...</td>\n",
              "    </tr>\n",
              "    <tr>\n",
              "      <th>5137</th>\n",
              "      <td>She slammed the door shut.</td>\n",
              "      <td>She slammed the door shut.</td>\n",
              "      <td>NaN</td>\n",
              "      <td>She slammed the door shut.</td>\n",
              "    </tr>\n",
              "    <tr>\n",
              "      <th>5138</th>\n",
              "      <td>My father's going to kill me.</td>\n",
              "      <td>My father's going to kill me.</td>\n",
              "      <td>NaN</td>\n",
              "      <td>My father's going to kill me.</td>\n",
              "    </tr>\n",
              "    <tr>\n",
              "      <th>5139</th>\n",
              "      <td>It's popular among senior citizens.</td>\n",
              "      <td>It's popular among senior citizens.</td>\n",
              "      <td>NaN</td>\n",
              "      <td>It's popular among senior citizens.</td>\n",
              "    </tr>\n",
              "    <tr>\n",
              "      <th>5140</th>\n",
              "      <td>He's in prison.</td>\n",
              "      <td>He's in prison.</td>\n",
              "      <td>NaN</td>\n",
              "      <td>He's in prison.</td>\n",
              "    </tr>\n",
              "  </tbody>\n",
              "</table>\n",
              "<p>5141 rows × 4 columns</p>\n",
              "</div>\n",
              "      <button class=\"colab-df-convert\" onclick=\"convertToInteractive('df-eae079f9-e1b6-44da-bc76-b2282587d1d4')\"\n",
              "              title=\"Convert this dataframe to an interactive table.\"\n",
              "              style=\"display:none;\">\n",
              "        \n",
              "  <svg xmlns=\"http://www.w3.org/2000/svg\" height=\"24px\"viewBox=\"0 0 24 24\"\n",
              "       width=\"24px\">\n",
              "    <path d=\"M0 0h24v24H0V0z\" fill=\"none\"/>\n",
              "    <path d=\"M18.56 5.44l.94 2.06.94-2.06 2.06-.94-2.06-.94-.94-2.06-.94 2.06-2.06.94zm-11 1L8.5 8.5l.94-2.06 2.06-.94-2.06-.94L8.5 2.5l-.94 2.06-2.06.94zm10 10l.94 2.06.94-2.06 2.06-.94-2.06-.94-.94-2.06-.94 2.06-2.06.94z\"/><path d=\"M17.41 7.96l-1.37-1.37c-.4-.4-.92-.59-1.43-.59-.52 0-1.04.2-1.43.59L10.3 9.45l-7.72 7.72c-.78.78-.78 2.05 0 2.83L4 21.41c.39.39.9.59 1.41.59.51 0 1.02-.2 1.41-.59l7.78-7.78 2.81-2.81c.8-.78.8-2.07 0-2.86zM5.41 20L4 18.59l7.72-7.72 1.47 1.35L5.41 20z\"/>\n",
              "  </svg>\n",
              "      </button>\n",
              "      \n",
              "  <style>\n",
              "    .colab-df-container {\n",
              "      display:flex;\n",
              "      flex-wrap:wrap;\n",
              "      gap: 12px;\n",
              "    }\n",
              "\n",
              "    .colab-df-convert {\n",
              "      background-color: #E8F0FE;\n",
              "      border: none;\n",
              "      border-radius: 50%;\n",
              "      cursor: pointer;\n",
              "      display: none;\n",
              "      fill: #1967D2;\n",
              "      height: 32px;\n",
              "      padding: 0 0 0 0;\n",
              "      width: 32px;\n",
              "    }\n",
              "\n",
              "    .colab-df-convert:hover {\n",
              "      background-color: #E2EBFA;\n",
              "      box-shadow: 0px 1px 2px rgba(60, 64, 67, 0.3), 0px 1px 3px 1px rgba(60, 64, 67, 0.15);\n",
              "      fill: #174EA6;\n",
              "    }\n",
              "\n",
              "    [theme=dark] .colab-df-convert {\n",
              "      background-color: #3B4455;\n",
              "      fill: #D2E3FC;\n",
              "    }\n",
              "\n",
              "    [theme=dark] .colab-df-convert:hover {\n",
              "      background-color: #434B5C;\n",
              "      box-shadow: 0px 1px 3px 1px rgba(0, 0, 0, 0.15);\n",
              "      filter: drop-shadow(0px 1px 2px rgba(0, 0, 0, 0.3));\n",
              "      fill: #FFFFFF;\n",
              "    }\n",
              "  </style>\n",
              "\n",
              "      <script>\n",
              "        const buttonEl =\n",
              "          document.querySelector('#df-eae079f9-e1b6-44da-bc76-b2282587d1d4 button.colab-df-convert');\n",
              "        buttonEl.style.display =\n",
              "          google.colab.kernel.accessAllowed ? 'block' : 'none';\n",
              "\n",
              "        async function convertToInteractive(key) {\n",
              "          const element = document.querySelector('#df-eae079f9-e1b6-44da-bc76-b2282587d1d4');\n",
              "          const dataTable =\n",
              "            await google.colab.kernel.invokeFunction('convertToInteractive',\n",
              "                                                     [key], {});\n",
              "          if (!dataTable) return;\n",
              "\n",
              "          const docLinkHtml = 'Like what you see? Visit the ' +\n",
              "            '<a target=\"_blank\" href=https://colab.research.google.com/notebooks/data_table.ipynb>data table notebook</a>'\n",
              "            + ' to learn more about interactive tables.';\n",
              "          element.innerHTML = '';\n",
              "          dataTable['output_type'] = 'display_data';\n",
              "          await google.colab.output.renderOutput(dataTable, element);\n",
              "          const docLink = document.createElement('div');\n",
              "          docLink.innerHTML = docLinkHtml;\n",
              "          element.appendChild(docLink);\n",
              "        }\n",
              "      </script>\n",
              "    </div>\n",
              "  </div>\n",
              "  "
            ]
          },
          "metadata": {},
          "execution_count": 33
        }
      ],
      "source": [
        "df= pd.read_csv(\"/content/Sentence pairs in English-English - 2022-08-17 (1).csv\")\n",
        "df.columns = [\"enc_input\",\"dec_input\",\"y\"] \n",
        "df[\"dec_output\"] = df.dec_input\n",
        "df"
      ]
    },
    {
      "cell_type": "code",
      "execution_count": null,
      "metadata": {
        "id": "NKsPPbD8ltB9"
      },
      "outputs": [],
      "source": [
        "df[\"dec_input\"]= \"<start> \" + df[\"dec_input\"]\n",
        "df[\"dec_output\"] =  df[\"dec_output\"] + \" <end>\""
      ]
    },
    {
      "cell_type": "code",
      "execution_count": null,
      "metadata": {
        "id": "YnJC9ZUflycY"
      },
      "outputs": [],
      "source": [
        "df_sampled = pd.concat((df[df.y==1].sample(frac= 0.2,random_state=1),df[df.y==1]))\n",
        "## ONCE THE DATA IS SAMPLED WE ARE SPLITTIND THE DATA IN TO TRAIN AND TEST\n",
        "\n",
        "df_train ,df_val = train_test_split(df_sampled,test_size=0.2,random_state = 3, stratify = df_sampled.y )\n",
        "## IN THE COLUMN WHICH HAS DECODER INPUTS ADDING \"<end>\" TOKEN TO BE LEARNED BY THE TOKENIZER\n",
        "\n",
        "df_train[\"dec_input\"].iloc[0]  = df_train.iloc[0][\"dec_input\"] + \" <end>\""
      ]
    },
    {
      "cell_type": "code",
      "execution_count": null,
      "metadata": {
        "colab": {
          "base_uri": "https://localhost:8080/",
          "height": 520
        },
        "id": "U7fjnOsahkfY",
        "outputId": "a6dd5e29-fd5e-45b3-dcd2-5750265cdbd9"
      },
      "outputs": [
        {
          "output_type": "execute_result",
          "data": {
            "text/plain": [
              "                                             enc_input  \\\n",
              "457                                    I don't got it.   \n",
              "148  Communism was the system practiced in the Sovi...   \n",
              "741                             Thiss door won't open.   \n",
              "526                  It is a matter of lifee or death.   \n",
              "400          Mr Brown alwayed carries a book with him.   \n",
              "..                                                 ...   \n",
              "759                      Ken couldn't recall has name.   \n",
              "760                    Ken appears an friendly person.   \n",
              "761                            Shall I ccall Ken back?   \n",
              "762      kate iis no less charming than her sister is.   \n",
              "763                   I'd like to payy by credit card.   \n",
              "\n",
              "                                             dec_input    y  \\\n",
              "457                            <start> I don't get it.  1.0   \n",
              "148  <start> Communism is the system practiced in t...  1.0   \n",
              "741                      <start> This door won't open.  1.0   \n",
              "526           <start> It is a matter of life or death.  1.0   \n",
              "400   <start> Mr Brown always carries a book with him.  1.0   \n",
              "..                                                 ...  ...   \n",
              "759              <start> Ken couldn't recall his name.  1.0   \n",
              "760             <start> Ken appears a friendly person.  1.0   \n",
              "761                     <start> Shall I call Ken back?  1.0   \n",
              "762  <start> Kate is no less charming than her sist...  1.0   \n",
              "763            <start> I'd like to pay by credit card.  1.0   \n",
              "\n",
              "                                            dec_output  \n",
              "457                              I don't get it. <end>  \n",
              "148  Communism is the system practiced in the Sovie...  \n",
              "741                        This door won't open. <end>  \n",
              "526             It is a matter of life or death. <end>  \n",
              "400     Mr Brown always carries a book with him. <end>  \n",
              "..                                                 ...  \n",
              "759                Ken couldn't recall his name. <end>  \n",
              "760               Ken appears a friendly person. <end>  \n",
              "761                       Shall I call Ken back? <end>  \n",
              "762  Kate is no less charming than her sister is. <...  \n",
              "763              I'd like to pay by credit card. <end>  \n",
              "\n",
              "[917 rows x 4 columns]"
            ],
            "text/html": [
              "\n",
              "  <div id=\"df-fdb11020-627a-4e11-8839-f42254d837e1\">\n",
              "    <div class=\"colab-df-container\">\n",
              "      <div>\n",
              "<style scoped>\n",
              "    .dataframe tbody tr th:only-of-type {\n",
              "        vertical-align: middle;\n",
              "    }\n",
              "\n",
              "    .dataframe tbody tr th {\n",
              "        vertical-align: top;\n",
              "    }\n",
              "\n",
              "    .dataframe thead th {\n",
              "        text-align: right;\n",
              "    }\n",
              "</style>\n",
              "<table border=\"1\" class=\"dataframe\">\n",
              "  <thead>\n",
              "    <tr style=\"text-align: right;\">\n",
              "      <th></th>\n",
              "      <th>enc_input</th>\n",
              "      <th>dec_input</th>\n",
              "      <th>y</th>\n",
              "      <th>dec_output</th>\n",
              "    </tr>\n",
              "  </thead>\n",
              "  <tbody>\n",
              "    <tr>\n",
              "      <th>457</th>\n",
              "      <td>I don't got it.</td>\n",
              "      <td>&lt;start&gt; I don't get it.</td>\n",
              "      <td>1.0</td>\n",
              "      <td>I don't get it. &lt;end&gt;</td>\n",
              "    </tr>\n",
              "    <tr>\n",
              "      <th>148</th>\n",
              "      <td>Communism was the system practiced in the Sovi...</td>\n",
              "      <td>&lt;start&gt; Communism is the system practiced in t...</td>\n",
              "      <td>1.0</td>\n",
              "      <td>Communism is the system practiced in the Sovie...</td>\n",
              "    </tr>\n",
              "    <tr>\n",
              "      <th>741</th>\n",
              "      <td>Thiss door won't open.</td>\n",
              "      <td>&lt;start&gt; This door won't open.</td>\n",
              "      <td>1.0</td>\n",
              "      <td>This door won't open. &lt;end&gt;</td>\n",
              "    </tr>\n",
              "    <tr>\n",
              "      <th>526</th>\n",
              "      <td>It is a matter of lifee or death.</td>\n",
              "      <td>&lt;start&gt; It is a matter of life or death.</td>\n",
              "      <td>1.0</td>\n",
              "      <td>It is a matter of life or death. &lt;end&gt;</td>\n",
              "    </tr>\n",
              "    <tr>\n",
              "      <th>400</th>\n",
              "      <td>Mr Brown alwayed carries a book with him.</td>\n",
              "      <td>&lt;start&gt; Mr Brown always carries a book with him.</td>\n",
              "      <td>1.0</td>\n",
              "      <td>Mr Brown always carries a book with him. &lt;end&gt;</td>\n",
              "    </tr>\n",
              "    <tr>\n",
              "      <th>...</th>\n",
              "      <td>...</td>\n",
              "      <td>...</td>\n",
              "      <td>...</td>\n",
              "      <td>...</td>\n",
              "    </tr>\n",
              "    <tr>\n",
              "      <th>759</th>\n",
              "      <td>Ken couldn't recall has name.</td>\n",
              "      <td>&lt;start&gt; Ken couldn't recall his name.</td>\n",
              "      <td>1.0</td>\n",
              "      <td>Ken couldn't recall his name. &lt;end&gt;</td>\n",
              "    </tr>\n",
              "    <tr>\n",
              "      <th>760</th>\n",
              "      <td>Ken appears an friendly person.</td>\n",
              "      <td>&lt;start&gt; Ken appears a friendly person.</td>\n",
              "      <td>1.0</td>\n",
              "      <td>Ken appears a friendly person. &lt;end&gt;</td>\n",
              "    </tr>\n",
              "    <tr>\n",
              "      <th>761</th>\n",
              "      <td>Shall I ccall Ken back?</td>\n",
              "      <td>&lt;start&gt; Shall I call Ken back?</td>\n",
              "      <td>1.0</td>\n",
              "      <td>Shall I call Ken back? &lt;end&gt;</td>\n",
              "    </tr>\n",
              "    <tr>\n",
              "      <th>762</th>\n",
              "      <td>kate iis no less charming than her sister is.</td>\n",
              "      <td>&lt;start&gt; Kate is no less charming than her sist...</td>\n",
              "      <td>1.0</td>\n",
              "      <td>Kate is no less charming than her sister is. &lt;...</td>\n",
              "    </tr>\n",
              "    <tr>\n",
              "      <th>763</th>\n",
              "      <td>I'd like to payy by credit card.</td>\n",
              "      <td>&lt;start&gt; I'd like to pay by credit card.</td>\n",
              "      <td>1.0</td>\n",
              "      <td>I'd like to pay by credit card. &lt;end&gt;</td>\n",
              "    </tr>\n",
              "  </tbody>\n",
              "</table>\n",
              "<p>917 rows × 4 columns</p>\n",
              "</div>\n",
              "      <button class=\"colab-df-convert\" onclick=\"convertToInteractive('df-fdb11020-627a-4e11-8839-f42254d837e1')\"\n",
              "              title=\"Convert this dataframe to an interactive table.\"\n",
              "              style=\"display:none;\">\n",
              "        \n",
              "  <svg xmlns=\"http://www.w3.org/2000/svg\" height=\"24px\"viewBox=\"0 0 24 24\"\n",
              "       width=\"24px\">\n",
              "    <path d=\"M0 0h24v24H0V0z\" fill=\"none\"/>\n",
              "    <path d=\"M18.56 5.44l.94 2.06.94-2.06 2.06-.94-2.06-.94-.94-2.06-.94 2.06-2.06.94zm-11 1L8.5 8.5l.94-2.06 2.06-.94-2.06-.94L8.5 2.5l-.94 2.06-2.06.94zm10 10l.94 2.06.94-2.06 2.06-.94-2.06-.94-.94-2.06-.94 2.06-2.06.94z\"/><path d=\"M17.41 7.96l-1.37-1.37c-.4-.4-.92-.59-1.43-.59-.52 0-1.04.2-1.43.59L10.3 9.45l-7.72 7.72c-.78.78-.78 2.05 0 2.83L4 21.41c.39.39.9.59 1.41.59.51 0 1.02-.2 1.41-.59l7.78-7.78 2.81-2.81c.8-.78.8-2.07 0-2.86zM5.41 20L4 18.59l7.72-7.72 1.47 1.35L5.41 20z\"/>\n",
              "  </svg>\n",
              "      </button>\n",
              "      \n",
              "  <style>\n",
              "    .colab-df-container {\n",
              "      display:flex;\n",
              "      flex-wrap:wrap;\n",
              "      gap: 12px;\n",
              "    }\n",
              "\n",
              "    .colab-df-convert {\n",
              "      background-color: #E8F0FE;\n",
              "      border: none;\n",
              "      border-radius: 50%;\n",
              "      cursor: pointer;\n",
              "      display: none;\n",
              "      fill: #1967D2;\n",
              "      height: 32px;\n",
              "      padding: 0 0 0 0;\n",
              "      width: 32px;\n",
              "    }\n",
              "\n",
              "    .colab-df-convert:hover {\n",
              "      background-color: #E2EBFA;\n",
              "      box-shadow: 0px 1px 2px rgba(60, 64, 67, 0.3), 0px 1px 3px 1px rgba(60, 64, 67, 0.15);\n",
              "      fill: #174EA6;\n",
              "    }\n",
              "\n",
              "    [theme=dark] .colab-df-convert {\n",
              "      background-color: #3B4455;\n",
              "      fill: #D2E3FC;\n",
              "    }\n",
              "\n",
              "    [theme=dark] .colab-df-convert:hover {\n",
              "      background-color: #434B5C;\n",
              "      box-shadow: 0px 1px 3px 1px rgba(0, 0, 0, 0.15);\n",
              "      filter: drop-shadow(0px 1px 2px rgba(0, 0, 0, 0.3));\n",
              "      fill: #FFFFFF;\n",
              "    }\n",
              "  </style>\n",
              "\n",
              "      <script>\n",
              "        const buttonEl =\n",
              "          document.querySelector('#df-fdb11020-627a-4e11-8839-f42254d837e1 button.colab-df-convert');\n",
              "        buttonEl.style.display =\n",
              "          google.colab.kernel.accessAllowed ? 'block' : 'none';\n",
              "\n",
              "        async function convertToInteractive(key) {\n",
              "          const element = document.querySelector('#df-fdb11020-627a-4e11-8839-f42254d837e1');\n",
              "          const dataTable =\n",
              "            await google.colab.kernel.invokeFunction('convertToInteractive',\n",
              "                                                     [key], {});\n",
              "          if (!dataTable) return;\n",
              "\n",
              "          const docLinkHtml = 'Like what you see? Visit the ' +\n",
              "            '<a target=\"_blank\" href=https://colab.research.google.com/notebooks/data_table.ipynb>data table notebook</a>'\n",
              "            + ' to learn more about interactive tables.';\n",
              "          element.innerHTML = '';\n",
              "          dataTable['output_type'] = 'display_data';\n",
              "          await google.colab.output.renderOutput(dataTable, element);\n",
              "          const docLink = document.createElement('div');\n",
              "          docLink.innerHTML = docLinkHtml;\n",
              "          element.appendChild(docLink);\n",
              "        }\n",
              "      </script>\n",
              "    </div>\n",
              "  </div>\n",
              "  "
            ]
          },
          "metadata": {},
          "execution_count": 36
        }
      ],
      "source": [
        "df_sampled"
      ]
    },
    {
      "cell_type": "code",
      "execution_count": null,
      "metadata": {
        "colab": {
          "base_uri": "https://localhost:8080/",
          "height": 485
        },
        "id": "zBBZ63yMhY9u",
        "outputId": "41137a66-3d38-4694-c695-25fb060ade55"
      },
      "outputs": [
        {
          "output_type": "execute_result",
          "data": {
            "text/plain": [
              "                                      enc_input  \\\n",
              "719                    This worked doesn't pay.   \n",
              "677                     This is excellent uine.   \n",
              "20                                I'm tireding.   \n",
              "47   What is the advantage off this technology?   \n",
              "230    A jack of al trades is a master of none.   \n",
              "..                                          ...   \n",
              "709             That land belongs too Mr Ikeda.   \n",
              "491               Dick have a traffic accident.   \n",
              "19                                Nobody cames.   \n",
              "504                         It's going to rain.   \n",
              "488       Enjoy your life while u and able too.   \n",
              "\n",
              "                                             dec_input    y  \\\n",
              "719                     <start> This work doesn't pay.  1.0   \n",
              "677                    <start> This is excellent wine.  1.0   \n",
              "20                                  <start> I'm tired.  1.0   \n",
              "47   <start> What is the advantage of this technology?  1.0   \n",
              "230  <start> A jack of all trades is a master of none.  1.0   \n",
              "..                                                 ...  ...   \n",
              "709             <start> This land belongs to Mr Ikeda.  1.0   \n",
              "491               <start> Dick had a traffic accident.  1.0   \n",
              "19                                <start> Nobody came.  1.0   \n",
              "504                        <start> It's going to rain.  1.0   \n",
              "488     <start> Enjoy your life while you are able to.  1.0   \n",
              "\n",
              "                                          dec_output  \n",
              "719                     This work doesn't pay. <end>  \n",
              "677                    This is excellent wine. <end>  \n",
              "20                                  I'm tired. <end>  \n",
              "47   What is the advantage of this technology? <end>  \n",
              "230  A jack of all trades is a master of none. <end>  \n",
              "..                                               ...  \n",
              "709             This land belongs to Mr Ikeda. <end>  \n",
              "491               Dick had a traffic accident. <end>  \n",
              "19                                Nobody came. <end>  \n",
              "504                        It's going to rain. <end>  \n",
              "488     Enjoy your life while you are able to. <end>  \n",
              "\n",
              "[184 rows x 4 columns]"
            ],
            "text/html": [
              "\n",
              "  <div id=\"df-88a40824-a3e3-4339-bacf-fae54e3bafb7\">\n",
              "    <div class=\"colab-df-container\">\n",
              "      <div>\n",
              "<style scoped>\n",
              "    .dataframe tbody tr th:only-of-type {\n",
              "        vertical-align: middle;\n",
              "    }\n",
              "\n",
              "    .dataframe tbody tr th {\n",
              "        vertical-align: top;\n",
              "    }\n",
              "\n",
              "    .dataframe thead th {\n",
              "        text-align: right;\n",
              "    }\n",
              "</style>\n",
              "<table border=\"1\" class=\"dataframe\">\n",
              "  <thead>\n",
              "    <tr style=\"text-align: right;\">\n",
              "      <th></th>\n",
              "      <th>enc_input</th>\n",
              "      <th>dec_input</th>\n",
              "      <th>y</th>\n",
              "      <th>dec_output</th>\n",
              "    </tr>\n",
              "  </thead>\n",
              "  <tbody>\n",
              "    <tr>\n",
              "      <th>719</th>\n",
              "      <td>This worked doesn't pay.</td>\n",
              "      <td>&lt;start&gt; This work doesn't pay.</td>\n",
              "      <td>1.0</td>\n",
              "      <td>This work doesn't pay. &lt;end&gt;</td>\n",
              "    </tr>\n",
              "    <tr>\n",
              "      <th>677</th>\n",
              "      <td>This is excellent uine.</td>\n",
              "      <td>&lt;start&gt; This is excellent wine.</td>\n",
              "      <td>1.0</td>\n",
              "      <td>This is excellent wine. &lt;end&gt;</td>\n",
              "    </tr>\n",
              "    <tr>\n",
              "      <th>20</th>\n",
              "      <td>I'm tireding.</td>\n",
              "      <td>&lt;start&gt; I'm tired.</td>\n",
              "      <td>1.0</td>\n",
              "      <td>I'm tired. &lt;end&gt;</td>\n",
              "    </tr>\n",
              "    <tr>\n",
              "      <th>47</th>\n",
              "      <td>What is the advantage off this technology?</td>\n",
              "      <td>&lt;start&gt; What is the advantage of this technology?</td>\n",
              "      <td>1.0</td>\n",
              "      <td>What is the advantage of this technology? &lt;end&gt;</td>\n",
              "    </tr>\n",
              "    <tr>\n",
              "      <th>230</th>\n",
              "      <td>A jack of al trades is a master of none.</td>\n",
              "      <td>&lt;start&gt; A jack of all trades is a master of none.</td>\n",
              "      <td>1.0</td>\n",
              "      <td>A jack of all trades is a master of none. &lt;end&gt;</td>\n",
              "    </tr>\n",
              "    <tr>\n",
              "      <th>...</th>\n",
              "      <td>...</td>\n",
              "      <td>...</td>\n",
              "      <td>...</td>\n",
              "      <td>...</td>\n",
              "    </tr>\n",
              "    <tr>\n",
              "      <th>709</th>\n",
              "      <td>That land belongs too Mr Ikeda.</td>\n",
              "      <td>&lt;start&gt; This land belongs to Mr Ikeda.</td>\n",
              "      <td>1.0</td>\n",
              "      <td>This land belongs to Mr Ikeda. &lt;end&gt;</td>\n",
              "    </tr>\n",
              "    <tr>\n",
              "      <th>491</th>\n",
              "      <td>Dick have a traffic accident.</td>\n",
              "      <td>&lt;start&gt; Dick had a traffic accident.</td>\n",
              "      <td>1.0</td>\n",
              "      <td>Dick had a traffic accident. &lt;end&gt;</td>\n",
              "    </tr>\n",
              "    <tr>\n",
              "      <th>19</th>\n",
              "      <td>Nobody cames.</td>\n",
              "      <td>&lt;start&gt; Nobody came.</td>\n",
              "      <td>1.0</td>\n",
              "      <td>Nobody came. &lt;end&gt;</td>\n",
              "    </tr>\n",
              "    <tr>\n",
              "      <th>504</th>\n",
              "      <td>It's going to rain.</td>\n",
              "      <td>&lt;start&gt; It's going to rain.</td>\n",
              "      <td>1.0</td>\n",
              "      <td>It's going to rain. &lt;end&gt;</td>\n",
              "    </tr>\n",
              "    <tr>\n",
              "      <th>488</th>\n",
              "      <td>Enjoy your life while u and able too.</td>\n",
              "      <td>&lt;start&gt; Enjoy your life while you are able to.</td>\n",
              "      <td>1.0</td>\n",
              "      <td>Enjoy your life while you are able to. &lt;end&gt;</td>\n",
              "    </tr>\n",
              "  </tbody>\n",
              "</table>\n",
              "<p>184 rows × 4 columns</p>\n",
              "</div>\n",
              "      <button class=\"colab-df-convert\" onclick=\"convertToInteractive('df-88a40824-a3e3-4339-bacf-fae54e3bafb7')\"\n",
              "              title=\"Convert this dataframe to an interactive table.\"\n",
              "              style=\"display:none;\">\n",
              "        \n",
              "  <svg xmlns=\"http://www.w3.org/2000/svg\" height=\"24px\"viewBox=\"0 0 24 24\"\n",
              "       width=\"24px\">\n",
              "    <path d=\"M0 0h24v24H0V0z\" fill=\"none\"/>\n",
              "    <path d=\"M18.56 5.44l.94 2.06.94-2.06 2.06-.94-2.06-.94-.94-2.06-.94 2.06-2.06.94zm-11 1L8.5 8.5l.94-2.06 2.06-.94-2.06-.94L8.5 2.5l-.94 2.06-2.06.94zm10 10l.94 2.06.94-2.06 2.06-.94-2.06-.94-.94-2.06-.94 2.06-2.06.94z\"/><path d=\"M17.41 7.96l-1.37-1.37c-.4-.4-.92-.59-1.43-.59-.52 0-1.04.2-1.43.59L10.3 9.45l-7.72 7.72c-.78.78-.78 2.05 0 2.83L4 21.41c.39.39.9.59 1.41.59.51 0 1.02-.2 1.41-.59l7.78-7.78 2.81-2.81c.8-.78.8-2.07 0-2.86zM5.41 20L4 18.59l7.72-7.72 1.47 1.35L5.41 20z\"/>\n",
              "  </svg>\n",
              "      </button>\n",
              "      \n",
              "  <style>\n",
              "    .colab-df-container {\n",
              "      display:flex;\n",
              "      flex-wrap:wrap;\n",
              "      gap: 12px;\n",
              "    }\n",
              "\n",
              "    .colab-df-convert {\n",
              "      background-color: #E8F0FE;\n",
              "      border: none;\n",
              "      border-radius: 50%;\n",
              "      cursor: pointer;\n",
              "      display: none;\n",
              "      fill: #1967D2;\n",
              "      height: 32px;\n",
              "      padding: 0 0 0 0;\n",
              "      width: 32px;\n",
              "    }\n",
              "\n",
              "    .colab-df-convert:hover {\n",
              "      background-color: #E2EBFA;\n",
              "      box-shadow: 0px 1px 2px rgba(60, 64, 67, 0.3), 0px 1px 3px 1px rgba(60, 64, 67, 0.15);\n",
              "      fill: #174EA6;\n",
              "    }\n",
              "\n",
              "    [theme=dark] .colab-df-convert {\n",
              "      background-color: #3B4455;\n",
              "      fill: #D2E3FC;\n",
              "    }\n",
              "\n",
              "    [theme=dark] .colab-df-convert:hover {\n",
              "      background-color: #434B5C;\n",
              "      box-shadow: 0px 1px 3px 1px rgba(0, 0, 0, 0.15);\n",
              "      filter: drop-shadow(0px 1px 2px rgba(0, 0, 0, 0.3));\n",
              "      fill: #FFFFFF;\n",
              "    }\n",
              "  </style>\n",
              "\n",
              "      <script>\n",
              "        const buttonEl =\n",
              "          document.querySelector('#df-88a40824-a3e3-4339-bacf-fae54e3bafb7 button.colab-df-convert');\n",
              "        buttonEl.style.display =\n",
              "          google.colab.kernel.accessAllowed ? 'block' : 'none';\n",
              "\n",
              "        async function convertToInteractive(key) {\n",
              "          const element = document.querySelector('#df-88a40824-a3e3-4339-bacf-fae54e3bafb7');\n",
              "          const dataTable =\n",
              "            await google.colab.kernel.invokeFunction('convertToInteractive',\n",
              "                                                     [key], {});\n",
              "          if (!dataTable) return;\n",
              "\n",
              "          const docLinkHtml = 'Like what you see? Visit the ' +\n",
              "            '<a target=\"_blank\" href=https://colab.research.google.com/notebooks/data_table.ipynb>data table notebook</a>'\n",
              "            + ' to learn more about interactive tables.';\n",
              "          element.innerHTML = '';\n",
              "          dataTable['output_type'] = 'display_data';\n",
              "          await google.colab.output.renderOutput(dataTable, element);\n",
              "          const docLink = document.createElement('div');\n",
              "          docLink.innerHTML = docLinkHtml;\n",
              "          element.appendChild(docLink);\n",
              "        }\n",
              "      </script>\n",
              "    </div>\n",
              "  </div>\n",
              "  "
            ]
          },
          "metadata": {},
          "execution_count": 37
        }
      ],
      "source": [
        "df_val"
      ]
    },
    {
      "cell_type": "code",
      "execution_count": null,
      "metadata": {
        "colab": {
          "base_uri": "https://localhost:8080/",
          "height": 554
        },
        "id": "jUHEitS7l1ws",
        "outputId": "51fefd8f-7d71-4a20-bbbf-38b5e57c1240"
      },
      "outputs": [
        {
          "output_type": "execute_result",
          "data": {
            "text/plain": [
              "                                              enc_input  \\\n",
              "2354                           I wish her a good night.   \n",
              "4160    He went to the United States to study medicine.   \n",
              "2186                               Ostriches can't fly.   \n",
              "4068  Though this be madness, yet there is method in't.   \n",
              "3149                            What does TATOEBA mean?   \n",
              "...                                                 ...   \n",
              "4459           I lost the watch my father had given me.   \n",
              "3099          The cost of living in America was rising.   \n",
              "3160                  You must quit smoking cigarettes.   \n",
              "2422                 I usually get up at eight o'clock.   \n",
              "1869  In America 'rebate' is widely recognized, gene...   \n",
              "\n",
              "                                              dec_input   y  \\\n",
              "2354                   <start> I wish her a good night. NaN   \n",
              "4160  <start> He went to the United States to study ... NaN   \n",
              "2186                       <start> Ostriches can't fly. NaN   \n",
              "4068  <start> Though this be madness, yet there is m... NaN   \n",
              "3149                    <start> What does TATOEBA mean? NaN   \n",
              "...                                                 ...  ..   \n",
              "4459   <start> I lost the watch my father had given me. NaN   \n",
              "3099  <start> The cost of living in America was rising. NaN   \n",
              "3160          <start> You must quit smoking cigarettes. NaN   \n",
              "2422         <start> I usually get up at eight o'clock. NaN   \n",
              "1869  <start> In America 'rebate' is widely recogniz... NaN   \n",
              "\n",
              "                                             dec_output  \n",
              "2354                     I wish her a good night. <end>  \n",
              "4160  He went to the United States to study medicine...  \n",
              "2186                         Ostriches can't fly. <end>  \n",
              "4068  Though this be madness, yet there is method in...  \n",
              "3149                      What does TATOEBA mean? <end>  \n",
              "...                                                 ...  \n",
              "4459     I lost the watch my father had given me. <end>  \n",
              "3099    The cost of living in America was rising. <end>  \n",
              "3160            You must quit smoking cigarettes. <end>  \n",
              "2422           I usually get up at eight o'clock. <end>  \n",
              "1869  In America 'rebate' is widely recognized, gene...  \n",
              "\n",
              "[100 rows x 4 columns]"
            ],
            "text/html": [
              "\n",
              "  <div id=\"df-a7dd2a4e-c21d-4388-b9c6-e6b0de69dc11\">\n",
              "    <div class=\"colab-df-container\">\n",
              "      <div>\n",
              "<style scoped>\n",
              "    .dataframe tbody tr th:only-of-type {\n",
              "        vertical-align: middle;\n",
              "    }\n",
              "\n",
              "    .dataframe tbody tr th {\n",
              "        vertical-align: top;\n",
              "    }\n",
              "\n",
              "    .dataframe thead th {\n",
              "        text-align: right;\n",
              "    }\n",
              "</style>\n",
              "<table border=\"1\" class=\"dataframe\">\n",
              "  <thead>\n",
              "    <tr style=\"text-align: right;\">\n",
              "      <th></th>\n",
              "      <th>enc_input</th>\n",
              "      <th>dec_input</th>\n",
              "      <th>y</th>\n",
              "      <th>dec_output</th>\n",
              "    </tr>\n",
              "  </thead>\n",
              "  <tbody>\n",
              "    <tr>\n",
              "      <th>2354</th>\n",
              "      <td>I wish her a good night.</td>\n",
              "      <td>&lt;start&gt; I wish her a good night.</td>\n",
              "      <td>NaN</td>\n",
              "      <td>I wish her a good night. &lt;end&gt;</td>\n",
              "    </tr>\n",
              "    <tr>\n",
              "      <th>4160</th>\n",
              "      <td>He went to the United States to study medicine.</td>\n",
              "      <td>&lt;start&gt; He went to the United States to study ...</td>\n",
              "      <td>NaN</td>\n",
              "      <td>He went to the United States to study medicine...</td>\n",
              "    </tr>\n",
              "    <tr>\n",
              "      <th>2186</th>\n",
              "      <td>Ostriches can't fly.</td>\n",
              "      <td>&lt;start&gt; Ostriches can't fly.</td>\n",
              "      <td>NaN</td>\n",
              "      <td>Ostriches can't fly. &lt;end&gt;</td>\n",
              "    </tr>\n",
              "    <tr>\n",
              "      <th>4068</th>\n",
              "      <td>Though this be madness, yet there is method in't.</td>\n",
              "      <td>&lt;start&gt; Though this be madness, yet there is m...</td>\n",
              "      <td>NaN</td>\n",
              "      <td>Though this be madness, yet there is method in...</td>\n",
              "    </tr>\n",
              "    <tr>\n",
              "      <th>3149</th>\n",
              "      <td>What does TATOEBA mean?</td>\n",
              "      <td>&lt;start&gt; What does TATOEBA mean?</td>\n",
              "      <td>NaN</td>\n",
              "      <td>What does TATOEBA mean? &lt;end&gt;</td>\n",
              "    </tr>\n",
              "    <tr>\n",
              "      <th>...</th>\n",
              "      <td>...</td>\n",
              "      <td>...</td>\n",
              "      <td>...</td>\n",
              "      <td>...</td>\n",
              "    </tr>\n",
              "    <tr>\n",
              "      <th>4459</th>\n",
              "      <td>I lost the watch my father had given me.</td>\n",
              "      <td>&lt;start&gt; I lost the watch my father had given me.</td>\n",
              "      <td>NaN</td>\n",
              "      <td>I lost the watch my father had given me. &lt;end&gt;</td>\n",
              "    </tr>\n",
              "    <tr>\n",
              "      <th>3099</th>\n",
              "      <td>The cost of living in America was rising.</td>\n",
              "      <td>&lt;start&gt; The cost of living in America was rising.</td>\n",
              "      <td>NaN</td>\n",
              "      <td>The cost of living in America was rising. &lt;end&gt;</td>\n",
              "    </tr>\n",
              "    <tr>\n",
              "      <th>3160</th>\n",
              "      <td>You must quit smoking cigarettes.</td>\n",
              "      <td>&lt;start&gt; You must quit smoking cigarettes.</td>\n",
              "      <td>NaN</td>\n",
              "      <td>You must quit smoking cigarettes. &lt;end&gt;</td>\n",
              "    </tr>\n",
              "    <tr>\n",
              "      <th>2422</th>\n",
              "      <td>I usually get up at eight o'clock.</td>\n",
              "      <td>&lt;start&gt; I usually get up at eight o'clock.</td>\n",
              "      <td>NaN</td>\n",
              "      <td>I usually get up at eight o'clock. &lt;end&gt;</td>\n",
              "    </tr>\n",
              "    <tr>\n",
              "      <th>1869</th>\n",
              "      <td>In America 'rebate' is widely recognized, gene...</td>\n",
              "      <td>&lt;start&gt; In America 'rebate' is widely recogniz...</td>\n",
              "      <td>NaN</td>\n",
              "      <td>In America 'rebate' is widely recognized, gene...</td>\n",
              "    </tr>\n",
              "  </tbody>\n",
              "</table>\n",
              "<p>100 rows × 4 columns</p>\n",
              "</div>\n",
              "      <button class=\"colab-df-convert\" onclick=\"convertToInteractive('df-a7dd2a4e-c21d-4388-b9c6-e6b0de69dc11')\"\n",
              "              title=\"Convert this dataframe to an interactive table.\"\n",
              "              style=\"display:none;\">\n",
              "        \n",
              "  <svg xmlns=\"http://www.w3.org/2000/svg\" height=\"24px\"viewBox=\"0 0 24 24\"\n",
              "       width=\"24px\">\n",
              "    <path d=\"M0 0h24v24H0V0z\" fill=\"none\"/>\n",
              "    <path d=\"M18.56 5.44l.94 2.06.94-2.06 2.06-.94-2.06-.94-.94-2.06-.94 2.06-2.06.94zm-11 1L8.5 8.5l.94-2.06 2.06-.94-2.06-.94L8.5 2.5l-.94 2.06-2.06.94zm10 10l.94 2.06.94-2.06 2.06-.94-2.06-.94-.94-2.06-.94 2.06-2.06.94z\"/><path d=\"M17.41 7.96l-1.37-1.37c-.4-.4-.92-.59-1.43-.59-.52 0-1.04.2-1.43.59L10.3 9.45l-7.72 7.72c-.78.78-.78 2.05 0 2.83L4 21.41c.39.39.9.59 1.41.59.51 0 1.02-.2 1.41-.59l7.78-7.78 2.81-2.81c.8-.78.8-2.07 0-2.86zM5.41 20L4 18.59l7.72-7.72 1.47 1.35L5.41 20z\"/>\n",
              "  </svg>\n",
              "      </button>\n",
              "      \n",
              "  <style>\n",
              "    .colab-df-container {\n",
              "      display:flex;\n",
              "      flex-wrap:wrap;\n",
              "      gap: 12px;\n",
              "    }\n",
              "\n",
              "    .colab-df-convert {\n",
              "      background-color: #E8F0FE;\n",
              "      border: none;\n",
              "      border-radius: 50%;\n",
              "      cursor: pointer;\n",
              "      display: none;\n",
              "      fill: #1967D2;\n",
              "      height: 32px;\n",
              "      padding: 0 0 0 0;\n",
              "      width: 32px;\n",
              "    }\n",
              "\n",
              "    .colab-df-convert:hover {\n",
              "      background-color: #E2EBFA;\n",
              "      box-shadow: 0px 1px 2px rgba(60, 64, 67, 0.3), 0px 1px 3px 1px rgba(60, 64, 67, 0.15);\n",
              "      fill: #174EA6;\n",
              "    }\n",
              "\n",
              "    [theme=dark] .colab-df-convert {\n",
              "      background-color: #3B4455;\n",
              "      fill: #D2E3FC;\n",
              "    }\n",
              "\n",
              "    [theme=dark] .colab-df-convert:hover {\n",
              "      background-color: #434B5C;\n",
              "      box-shadow: 0px 1px 3px 1px rgba(0, 0, 0, 0.15);\n",
              "      filter: drop-shadow(0px 1px 2px rgba(0, 0, 0, 0.3));\n",
              "      fill: #FFFFFF;\n",
              "    }\n",
              "  </style>\n",
              "\n",
              "      <script>\n",
              "        const buttonEl =\n",
              "          document.querySelector('#df-a7dd2a4e-c21d-4388-b9c6-e6b0de69dc11 button.colab-df-convert');\n",
              "        buttonEl.style.display =\n",
              "          google.colab.kernel.accessAllowed ? 'block' : 'none';\n",
              "\n",
              "        async function convertToInteractive(key) {\n",
              "          const element = document.querySelector('#df-a7dd2a4e-c21d-4388-b9c6-e6b0de69dc11');\n",
              "          const dataTable =\n",
              "            await google.colab.kernel.invokeFunction('convertToInteractive',\n",
              "                                                     [key], {});\n",
              "          if (!dataTable) return;\n",
              "\n",
              "          const docLinkHtml = 'Like what you see? Visit the ' +\n",
              "            '<a target=\"_blank\" href=https://colab.research.google.com/notebooks/data_table.ipynb>data table notebook</a>'\n",
              "            + ' to learn more about interactive tables.';\n",
              "          element.innerHTML = '';\n",
              "          dataTable['output_type'] = 'display_data';\n",
              "          await google.colab.output.renderOutput(dataTable, element);\n",
              "          const docLink = document.createElement('div');\n",
              "          docLink.innerHTML = docLinkHtml;\n",
              "          element.appendChild(docLink);\n",
              "        }\n",
              "      </script>\n",
              "    </div>\n",
              "  </div>\n",
              "  "
            ]
          },
          "metadata": {},
          "execution_count": 38
        }
      ],
      "source": [
        "np.random.seed(5) \n",
        "df_test = df.loc[np.random.choice(np.array([x for x in df.index.values if x not in df_sampled.index.values]),100,replace= False,)]\n",
        "df_test"
      ]
    },
    {
      "cell_type": "code",
      "execution_count": null,
      "metadata": {
        "id": "P69ycPy-mBuD"
      },
      "outputs": [],
      "source": [
        "from tensorflow.keras.preprocessing.text import Tokenizer\n",
        "## TOKENIZER FOR ENCODER INPUT\n",
        "tk_inp = Tokenizer()\n",
        "tk_inp.fit_on_texts(df_train.enc_input.apply(str))\n",
        "# TOKENIZER FOR DECODER INPUT\n",
        "tk_out = Tokenizer(filters='!\"#$%&()*+,-./:;=?@[\\\\]^_`{|}~\\t\\n' )\n",
        "tk_out.fit_on_texts(df_train.dec_input.apply(str))"
      ]
    },
    {
      "cell_type": "code",
      "execution_count": null,
      "metadata": {
        "id": "KDYMK1EMm4ZF"
      },
      "outputs": [],
      "source": [
        "class Dataset :\n",
        "    def __init__(self, data , tk_inp ,tk_out, max_len):\n",
        "        self.encoder_inp = data[\"enc_input\"].apply(str).values\n",
        "        self.decoder_inp = data[\"dec_input\"].apply(str).values\n",
        "        self.decoder_out = data[\"dec_output\"].apply(str).values\n",
        "        self.tk_inp = tk_inp\n",
        "        self.tk_out = tk_out\n",
        "        self.max_len = max_len\n",
        "        \n",
        "    def __getitem__(self,i):\n",
        "        # INPUT SEQUENCES\n",
        "        self.encoder_seq = self.tk_inp.texts_to_sequences([self.encoder_inp[i]])\n",
        "        # DECODER INPUT SEQUENCES \n",
        "        self.decoder_inp_seq = self.tk_out.texts_to_sequences([self.decoder_inp[i]])\n",
        "        # DECODER INPUT SEQUENCES\n",
        "        self.decoder_out_seq = self.tk_out.texts_to_sequences([self.decoder_out[i]])\n",
        "        \n",
        "        # PADDING THE ENCODER INPUT SEQUENCES\n",
        "        self.encoder_seq = pad_sequences(self.encoder_seq, padding=\"post\",maxlen = self.max_len)\n",
        "        # PADDING THE DECODER INPUT SEQUENCES\n",
        "        self.decoder_inp_seq = pad_sequences(self.decoder_inp_seq, padding=\"post\",maxlen = self.max_len)\n",
        "        # PADDING DECODER OUTPUT SEQUENCES\n",
        "        self.decoder_out_seq = pad_sequences(self.decoder_out_seq ,padding=\"post\", maxlen = self.max_len)\n",
        "        ##  RETURNING THE ENCODER INPUT , DECODER INPUT , AND DECODER OUTPUT\n",
        "        return self.encoder_seq ,  self.decoder_inp_seq,  self.decoder_out_seq\n",
        "    \n",
        "    def __len__(self):\n",
        "        # RETURN THE LEN OF INPUT ENDODER\n",
        "        return len(self.encoder_inp)\n",
        "## THIS CLASS CONVERTES THE DATASET INTO THE REQUIRED BATCH SIZE\n",
        "\n",
        "class Dataloader(tf.keras.utils.Sequence):\n",
        "    def __init__(self,batch_size,dataset):\n",
        "        # INTIALIZING THE REQUIRED VARIABLES \n",
        "        self.dataset = dataset\n",
        "        self.batch_size = batch_size\n",
        "        self.totl_points = self.dataset.encoder_inp.shape[0]\n",
        "        \n",
        "    def __getitem__(self,i):\n",
        "        # STATING THE START AND STOP VATIABLE CONTAINGING INDEX VALUES FOR EACH BATCH\n",
        "        start = i * self.batch_size\n",
        "        stop = (i+1)*self.batch_size\n",
        "        \n",
        "        # PLACEHOLDERS FOR BATCHED DATA\n",
        "        batch_enc =[]\n",
        "        batch_dec_input = []\n",
        "        batch_dec_out =[]\n",
        "\n",
        "        for j in range(start,stop): \n",
        "            \n",
        "            a,b,c = self.dataset[j] \n",
        "            batch_enc.append(a[0]) \n",
        "            batch_dec_input.append(b[0])\n",
        "            batch_dec_out.append(c[0]) \n",
        "        \n",
        "        # Conveting list to array   \n",
        "        batch_enc = (np.array(batch_enc)) \n",
        "        batch_dec_input = np.array(batch_dec_input)\n",
        "        batch_dec_out = np.array(batch_dec_out)\n",
        "        \n",
        "        return [batch_enc , batch_dec_input],batch_dec_out\n",
        "    \n",
        "    def __len__(self):\n",
        "        # Returning the number of batches\n",
        "        return int(self.totl_points/self.batch_size)\n",
        "#WE ARE TAKING THE MAXIMUM LENGHT EQUAL TO 35 WHICH IS 99 PERCENTILE OF THE WORD LENGTH DISTRUBUTION\n",
        "# FORMING OBJECTS OF DATASET AND DATALOADER FOR TRAIN DATASET\n",
        "train_dataset = Dataset(df_train,tk_inp,tk_out,35)\n",
        "train_dataloader = Dataloader( batch_size = 512, dataset=train_dataset)\n",
        "# FORMING OBJECTS OF DATASET AND DATALOADER FOR VALIDATION DATASET\n",
        "val_dataset = Dataset(df_val , tk_inp,tk_out,35)\n",
        "val_dataloader = Dataloader(batch_size=512 , dataset=val_dataset)"
      ]
    },
    {
      "cell_type": "code",
      "execution_count": null,
      "metadata": {
        "id": "l0vnLldqnPOB"
      },
      "outputs": [],
      "source": [
        "from tensorflow.keras import layers\n",
        "from tensorflow.keras import Model\n",
        "## ENDOCER CLASS\n",
        "class Encoder(tf.keras.layers.Layer):\n",
        "    '''\n",
        "    Encoder model -- That takes a input sequence and returns encoder-outputs,encoder_final_state_h,encoder_final_state_c\n",
        "    '''\n",
        "    def __init__(self , vocab_size , embedding_dim , enc_units , input_len):\n",
        "        super().__init__()\n",
        "        \n",
        "        # STATING ALL THE VARIABLES\n",
        "        self.vocab_size = vocab_size\n",
        "        self.embedding_dim = embedding_dim\n",
        "        self.input_len = input_len\n",
        "        self.enc_units = enc_units\n",
        "        \n",
        "        # INITALIZING EMBEDDING LAYER\n",
        "        self.embedding = layers.Embedding(input_dim= self.vocab_size,\n",
        "                                         output_dim = self.embedding_dim,\n",
        "                                         mask_zero = True,\n",
        "                                          input_length = self.input_len\n",
        "                                         )\n",
        "        # INTIALIZING LSTM LAYER\n",
        "        self.lstm_bi = layers.Bidirectional(layers.LSTM(units= self.enc_units,return_state = True,return_sequences=True ))\n",
        "        self.concat1 = layers.Concatenate()\n",
        "        self.concat2 = layers.Concatenate()\n",
        "    def call(self,input):\n",
        "        '''\n",
        "          This function takes a sequence input and the initial states of the encoder.\n",
        "          Pass the input_sequence input to the Embedding layer, Pass the embedding layer ouput to encoder_lstm\n",
        "          returns -- encoder_output, last time step's hidden and cell state\n",
        "        '''\n",
        "        # CONVERTING INPUT TO EMBEDDED VECTORS\n",
        "        emb = self.embedding(input)\n",
        "        # PASSING THROUGH LSTM LAYER\n",
        "        enc_output , state_h1 , state_c1 ,state_h2 , state_c2 = self.lstm_bi(emb)\n",
        "        state_h = self.concat1([state_h1,state_h2])\n",
        "        state_c  = self.concat2(([state_c1,state_c2]))\n",
        "\n",
        "        return enc_output ,state_h ,state_c \n",
        "\n",
        "## DECODER CLASS\n",
        "class Decoder(tf.keras.layers.Layer):\n",
        "    def __init__(self,vocab_size , embedding_dim, dec_unit,input_len ):\n",
        "        super().__init__()\n",
        "        # INITALIZING ALL THE VARIABLES \n",
        "        self.vocab_size = vocab_size\n",
        "        self.embedding_dim = embedding_dim\n",
        "        self.input_len = input_len\n",
        "        self.dec_unit =dec_unit\n",
        "        \n",
        "        \n",
        "    def build(self,input_shape):\n",
        "        \n",
        "        # INITALIZING EMBEDDING AND LSTM LAYER\n",
        "        self.embedding = layers.Embedding(input_dim = self.vocab_size,\n",
        "                                          output_dim = self.embedding_dim,\n",
        "                                         mask_zero=True,\n",
        "                                         input_length = self.input_len)\n",
        "        self.lstm = layers.LSTM(units = self.dec_unit,\n",
        "                               return_sequences=True,\n",
        "                               return_state=True)\n",
        "        \n",
        "    def call(self,input, state):\n",
        "        # FORMING THE EMBEDDED VECTORS\n",
        "        emb = self.embedding(input)\n",
        "        \n",
        "        # LSTM OUTPUT\n",
        "        dec_out,state_h,state_c = self.lstm(emb,initial_state = state)\n",
        "        \n",
        "        return dec_out,state_h,state_c\n",
        "  \n",
        "## DEFINING THE ARCHITECTURE\n",
        "\n",
        "# INPUT LAYER\n",
        "enc_input = layers.Input(shape=(35))\n",
        "enc_output,state_h,state_c =   Encoder(vocab_size= len(tk_inp.word_index)+1  , embedding_dim= 300 ,\n",
        "                               enc_units=256 ,input_len=35)(enc_input)\n",
        "## STORING ENCOER STATES IN A VARIABLE\n",
        "enc_state = [state_h,state_c] \n",
        "\n",
        "# INPUT LAYER FOR DECODER\n",
        "dec_input = layers.Input(shape = (35))\n",
        "## DECODER LAYER\n",
        "dec_output,_,_ = Decoder(vocab_size = len(tk_out.word_index)+1  , embedding_dim = 300,\n",
        "                               dec_unit=512,input_len=35)(dec_input,enc_state)\n",
        "\n",
        "# DENSE LAYER\n",
        "dense = layers.Dense(len(tk_out.word_index)+1,activation=\"softmax\")(dec_output)\n",
        "\n",
        "# MODEL DEFINING\n",
        "model  = Model(inputs=[enc_input,dec_input],outputs=dense)        "
      ]
    },
    {
      "cell_type": "code",
      "execution_count": null,
      "metadata": {
        "colab": {
          "base_uri": "https://localhost:8080/"
        },
        "id": "vLL6lxMhoBGd",
        "outputId": "2cfddc49-295e-4f09-a614-f23b7a040aa5"
      },
      "outputs": [
        {
          "output_type": "stream",
          "name": "stdout",
          "text": [
            "Model: \"model_2\"\n",
            "__________________________________________________________________________________________________\n",
            " Layer (type)                   Output Shape         Param #     Connected to                     \n",
            "==================================================================================================\n",
            " input_5 (InputLayer)           [(None, 35)]         0           []                               \n",
            "                                                                                                  \n",
            " input_6 (InputLayer)           [(None, 35)]         0           []                               \n",
            "                                                                                                  \n",
            " encoder_2 (Encoder)            ((None, 35, 512),    1502236     ['input_5[0][0]']                \n",
            "                                 (None, 512),                                                     \n",
            "                                 (None, 512))                                                     \n",
            "                                                                                                  \n",
            " decoder_2 (Decoder)            ((None, 35, 512),    1976424     ['input_6[0][0]',                \n",
            "                                 (None, 512),                     'encoder_2[0][1]',              \n",
            "                                 (None, 512))                     'encoder_2[0][2]']              \n",
            "                                                                                                  \n",
            " dense_2 (Dense)                (None, 35, 1038)     532494      ['decoder_2[0][0]']              \n",
            "                                                                                                  \n",
            "==================================================================================================\n",
            "Total params: 4,011,154\n",
            "Trainable params: 4,011,154\n",
            "Non-trainable params: 0\n",
            "__________________________________________________________________________________________________\n"
          ]
        }
      ],
      "source": [
        "callback =[ tf.keras.callbacks.ModelCheckpoint( \"/content/drive/MyDrive/Colab Notebooks/cs2/model_save/bidirectional_train_emb/besh.h5\",save_best_only=True,mode=\"min\" ,save_weights_only=True),\n",
        "           tf.keras.callbacks.EarlyStopping(monitor='val_loss',patience=5,verbose=1,min_delta=0.0001),\n",
        "            tf.keras.callbacks.TensorBoard(\"/content/drive/MyDrive/Colab Notebooks/cs2/model_save/bidirectional_train_emb/logs/save\",histogram_freq=1)\n",
        "]\n",
        "## TRAINNG AND VALIDATION STEPS FOR ONE EPOCH\n",
        "train_steps = train_dataloader.__len__()\n",
        "val_steps  = val_dataloader.__len__()\n",
        "\n",
        "# COMPILING THE MODEL\n",
        "model.compile(optimizer=\"adam\",loss='sparse_categorical_crossentropy')\n",
        "## MODEL SUMMARY\n",
        "model.summary()"
      ]
    },
    {
      "cell_type": "code",
      "execution_count": null,
      "metadata": {
        "colab": {
          "base_uri": "https://localhost:8080/"
        },
        "id": "rETezBQFB-by",
        "outputId": "f182c06d-b840-40f3-a144-65babb0ba578"
      },
      "outputs": [
        {
          "output_type": "stream",
          "name": "stderr",
          "text": [
            "WARNING:tensorflow:Model failed to serialize as JSON. Ignoring... \n",
            "Layer Encoder has arguments ['self', 'vocab_size', 'embedding_dim', 'enc_units', 'input_len']\n",
            "in `__init__` and therefore must override `get_config()`.\n",
            "\n",
            "Example:\n",
            "\n",
            "class CustomLayer(keras.layers.Layer):\n",
            "    def __init__(self, arg1, arg2):\n",
            "        super().__init__()\n",
            "        self.arg1 = arg1\n",
            "        self.arg2 = arg2\n",
            "\n",
            "    def get_config(self):\n",
            "        config = super().get_config()\n",
            "        config.update({\n",
            "            \"arg1\": self.arg1,\n",
            "            \"arg2\": self.arg2,\n",
            "        })\n",
            "        return config\n"
          ]
        },
        {
          "output_type": "stream",
          "name": "stdout",
          "text": [
            "Epoch 1/50\n",
            "1/1 [==============================] - ETA: 0s - loss: 1.4084"
          ]
        },
        {
          "output_type": "stream",
          "name": "stderr",
          "text": [
            "WARNING:tensorflow:Can save best model only with val_loss available, skipping.\n",
            "WARNING:tensorflow:Early stopping conditioned on metric `val_loss` which is not available. Available metrics are: loss\n"
          ]
        },
        {
          "output_type": "stream",
          "name": "stdout",
          "text": [
            "\b\b\b\b\b\b\b\b\b\b\b\b\b\b\b\b\b\b\b\b\b\b\b\b\b\b\b\b\b\b\b\b\b\b\b\b\b\b\b\b\b\b\b\b\b\b\b\b\b\b\b\b\b\b\b\b\b\b\b\b\b\r1/1 [==============================] - 24s 24s/step - loss: 1.4084\n",
            "Epoch 2/50\n",
            "1/1 [==============================] - ETA: 0s - loss: 1.4070"
          ]
        },
        {
          "output_type": "stream",
          "name": "stderr",
          "text": [
            "WARNING:tensorflow:Can save best model only with val_loss available, skipping.\n",
            "WARNING:tensorflow:Early stopping conditioned on metric `val_loss` which is not available. Available metrics are: loss\n"
          ]
        },
        {
          "output_type": "stream",
          "name": "stdout",
          "text": [
            "\b\b\b\b\b\b\b\b\b\b\b\b\b\b\b\b\b\b\b\b\b\b\b\b\b\b\b\b\b\b\b\b\b\b\b\b\b\b\b\b\b\b\b\b\b\b\b\b\b\b\b\b\b\b\b\b\b\b\b\b\b\r1/1 [==============================] - 9s 9s/step - loss: 1.4070\n",
            "Epoch 3/50\n",
            "1/1 [==============================] - ETA: 0s - loss: 1.4054"
          ]
        },
        {
          "output_type": "stream",
          "name": "stderr",
          "text": [
            "WARNING:tensorflow:Can save best model only with val_loss available, skipping.\n",
            "WARNING:tensorflow:Early stopping conditioned on metric `val_loss` which is not available. Available metrics are: loss\n"
          ]
        },
        {
          "output_type": "stream",
          "name": "stdout",
          "text": [
            "\b\b\b\b\b\b\b\b\b\b\b\b\b\b\b\b\b\b\b\b\b\b\b\b\b\b\b\b\b\b\b\b\b\b\b\b\b\b\b\b\b\b\b\b\b\b\b\b\b\b\b\b\b\b\b\b\b\b\b\b\b\r1/1 [==============================] - 9s 9s/step - loss: 1.4054\n",
            "Epoch 4/50\n",
            "1/1 [==============================] - ETA: 0s - loss: 1.4032"
          ]
        },
        {
          "output_type": "stream",
          "name": "stderr",
          "text": [
            "WARNING:tensorflow:Can save best model only with val_loss available, skipping.\n",
            "WARNING:tensorflow:Early stopping conditioned on metric `val_loss` which is not available. Available metrics are: loss\n"
          ]
        },
        {
          "output_type": "stream",
          "name": "stdout",
          "text": [
            "\b\b\b\b\b\b\b\b\b\b\b\b\b\b\b\b\b\b\b\b\b\b\b\b\b\b\b\b\b\b\b\b\b\b\b\b\b\b\b\b\b\b\b\b\b\b\b\b\b\b\b\b\b\b\b\b\b\b\b\b\b\r1/1 [==============================] - 9s 9s/step - loss: 1.4032\n",
            "Epoch 5/50\n",
            "1/1 [==============================] - ETA: 0s - loss: 1.3999"
          ]
        },
        {
          "output_type": "stream",
          "name": "stderr",
          "text": [
            "WARNING:tensorflow:Can save best model only with val_loss available, skipping.\n",
            "WARNING:tensorflow:Early stopping conditioned on metric `val_loss` which is not available. Available metrics are: loss\n"
          ]
        },
        {
          "output_type": "stream",
          "name": "stdout",
          "text": [
            "\b\b\b\b\b\b\b\b\b\b\b\b\b\b\b\b\b\b\b\b\b\b\b\b\b\b\b\b\b\b\b\b\b\b\b\b\b\b\b\b\b\b\b\b\b\b\b\b\b\b\b\b\b\b\b\b\b\b\b\b\b\r1/1 [==============================] - 9s 9s/step - loss: 1.3999\n",
            "Epoch 6/50\n",
            "1/1 [==============================] - ETA: 0s - loss: 1.3944"
          ]
        },
        {
          "output_type": "stream",
          "name": "stderr",
          "text": [
            "WARNING:tensorflow:Can save best model only with val_loss available, skipping.\n",
            "WARNING:tensorflow:Early stopping conditioned on metric `val_loss` which is not available. Available metrics are: loss\n"
          ]
        },
        {
          "output_type": "stream",
          "name": "stdout",
          "text": [
            "\b\b\b\b\b\b\b\b\b\b\b\b\b\b\b\b\b\b\b\b\b\b\b\b\b\b\b\b\b\b\b\b\b\b\b\b\b\b\b\b\b\b\b\b\b\b\b\b\b\b\b\b\b\b\b\b\b\b\b\b\b\r1/1 [==============================] - 9s 9s/step - loss: 1.3944\n",
            "Epoch 7/50\n",
            "1/1 [==============================] - ETA: 0s - loss: 1.3842"
          ]
        },
        {
          "output_type": "stream",
          "name": "stderr",
          "text": [
            "WARNING:tensorflow:Can save best model only with val_loss available, skipping.\n",
            "WARNING:tensorflow:Early stopping conditioned on metric `val_loss` which is not available. Available metrics are: loss\n"
          ]
        },
        {
          "output_type": "stream",
          "name": "stdout",
          "text": [
            "\b\b\b\b\b\b\b\b\b\b\b\b\b\b\b\b\b\b\b\b\b\b\b\b\b\b\b\b\b\b\b\b\b\b\b\b\b\b\b\b\b\b\b\b\b\b\b\b\b\b\b\b\b\b\b\b\b\b\b\b\b\r1/1 [==============================] - 9s 9s/step - loss: 1.3842\n",
            "Epoch 8/50\n",
            "1/1 [==============================] - ETA: 0s - loss: 1.3645"
          ]
        },
        {
          "output_type": "stream",
          "name": "stderr",
          "text": [
            "WARNING:tensorflow:Can save best model only with val_loss available, skipping.\n",
            "WARNING:tensorflow:Early stopping conditioned on metric `val_loss` which is not available. Available metrics are: loss\n"
          ]
        },
        {
          "output_type": "stream",
          "name": "stdout",
          "text": [
            "\b\b\b\b\b\b\b\b\b\b\b\b\b\b\b\b\b\b\b\b\b\b\b\b\b\b\b\b\b\b\b\b\b\b\b\b\b\b\b\b\b\b\b\b\b\b\b\b\b\b\b\b\b\b\b\b\b\b\b\b\b\r1/1 [==============================] - 9s 9s/step - loss: 1.3645\n",
            "Epoch 9/50\n",
            "1/1 [==============================] - ETA: 0s - loss: 1.3282"
          ]
        },
        {
          "output_type": "stream",
          "name": "stderr",
          "text": [
            "WARNING:tensorflow:Can save best model only with val_loss available, skipping.\n",
            "WARNING:tensorflow:Early stopping conditioned on metric `val_loss` which is not available. Available metrics are: loss\n"
          ]
        },
        {
          "output_type": "stream",
          "name": "stdout",
          "text": [
            "\b\b\b\b\b\b\b\b\b\b\b\b\b\b\b\b\b\b\b\b\b\b\b\b\b\b\b\b\b\b\b\b\b\b\b\b\b\b\b\b\b\b\b\b\b\b\b\b\b\b\b\b\b\b\b\b\b\b\b\b\b\r1/1 [==============================] - 9s 9s/step - loss: 1.3282\n",
            "Epoch 10/50\n",
            "1/1 [==============================] - ETA: 0s - loss: 1.2753"
          ]
        },
        {
          "output_type": "stream",
          "name": "stderr",
          "text": [
            "WARNING:tensorflow:Can save best model only with val_loss available, skipping.\n",
            "WARNING:tensorflow:Early stopping conditioned on metric `val_loss` which is not available. Available metrics are: loss\n"
          ]
        },
        {
          "output_type": "stream",
          "name": "stdout",
          "text": [
            "\b\b\b\b\b\b\b\b\b\b\b\b\b\b\b\b\b\b\b\b\b\b\b\b\b\b\b\b\b\b\b\b\b\b\b\b\b\b\b\b\b\b\b\b\b\b\b\b\b\b\b\b\b\b\b\b\b\b\b\b\b\r1/1 [==============================] - 9s 9s/step - loss: 1.2753\n",
            "Epoch 11/50\n",
            "1/1 [==============================] - ETA: 0s - loss: 1.2324"
          ]
        },
        {
          "output_type": "stream",
          "name": "stderr",
          "text": [
            "WARNING:tensorflow:Can save best model only with val_loss available, skipping.\n",
            "WARNING:tensorflow:Early stopping conditioned on metric `val_loss` which is not available. Available metrics are: loss\n"
          ]
        },
        {
          "output_type": "stream",
          "name": "stdout",
          "text": [
            "\b\b\b\b\b\b\b\b\b\b\b\b\b\b\b\b\b\b\b\b\b\b\b\b\b\b\b\b\b\b\b\b\b\b\b\b\b\b\b\b\b\b\b\b\b\b\b\b\b\b\b\b\b\b\b\b\b\b\b\b\b\r1/1 [==============================] - 10s 10s/step - loss: 1.2324\n",
            "Epoch 12/50\n",
            "1/1 [==============================] - ETA: 0s - loss: 1.2047"
          ]
        },
        {
          "output_type": "stream",
          "name": "stderr",
          "text": [
            "WARNING:tensorflow:Can save best model only with val_loss available, skipping.\n",
            "WARNING:tensorflow:Early stopping conditioned on metric `val_loss` which is not available. Available metrics are: loss\n"
          ]
        },
        {
          "output_type": "stream",
          "name": "stdout",
          "text": [
            "\b\b\b\b\b\b\b\b\b\b\b\b\b\b\b\b\b\b\b\b\b\b\b\b\b\b\b\b\b\b\b\b\b\b\b\b\b\b\b\b\b\b\b\b\b\b\b\b\b\b\b\b\b\b\b\b\b\b\b\b\b\r1/1 [==============================] - 9s 9s/step - loss: 1.2047\n",
            "Epoch 13/50\n",
            "1/1 [==============================] - ETA: 0s - loss: 1.1697"
          ]
        },
        {
          "output_type": "stream",
          "name": "stderr",
          "text": [
            "WARNING:tensorflow:Can save best model only with val_loss available, skipping.\n",
            "WARNING:tensorflow:Early stopping conditioned on metric `val_loss` which is not available. Available metrics are: loss\n"
          ]
        },
        {
          "output_type": "stream",
          "name": "stdout",
          "text": [
            "\b\b\b\b\b\b\b\b\b\b\b\b\b\b\b\b\b\b\b\b\b\b\b\b\b\b\b\b\b\b\b\b\b\b\b\b\b\b\b\b\b\b\b\b\b\b\b\b\b\b\b\b\b\b\b\b\b\b\b\b\b\r1/1 [==============================] - 10s 10s/step - loss: 1.1697\n",
            "Epoch 14/50\n",
            "1/1 [==============================] - ETA: 0s - loss: 1.1409"
          ]
        },
        {
          "output_type": "stream",
          "name": "stderr",
          "text": [
            "WARNING:tensorflow:Can save best model only with val_loss available, skipping.\n",
            "WARNING:tensorflow:Early stopping conditioned on metric `val_loss` which is not available. Available metrics are: loss\n"
          ]
        },
        {
          "output_type": "stream",
          "name": "stdout",
          "text": [
            "\b\b\b\b\b\b\b\b\b\b\b\b\b\b\b\b\b\b\b\b\b\b\b\b\b\b\b\b\b\b\b\b\b\b\b\b\b\b\b\b\b\b\b\b\b\b\b\b\b\b\b\b\b\b\b\b\b\b\b\b\b\r1/1 [==============================] - 9s 9s/step - loss: 1.1409\n",
            "Epoch 15/50\n",
            "1/1 [==============================] - ETA: 0s - loss: 1.1292"
          ]
        },
        {
          "output_type": "stream",
          "name": "stderr",
          "text": [
            "WARNING:tensorflow:Can save best model only with val_loss available, skipping.\n",
            "WARNING:tensorflow:Early stopping conditioned on metric `val_loss` which is not available. Available metrics are: loss\n"
          ]
        },
        {
          "output_type": "stream",
          "name": "stdout",
          "text": [
            "\b\b\b\b\b\b\b\b\b\b\b\b\b\b\b\b\b\b\b\b\b\b\b\b\b\b\b\b\b\b\b\b\b\b\b\b\b\b\b\b\b\b\b\b\b\b\b\b\b\b\b\b\b\b\b\b\b\b\b\b\b\r1/1 [==============================] - 9s 9s/step - loss: 1.1292\n",
            "Epoch 16/50\n",
            "1/1 [==============================] - ETA: 0s - loss: 1.1242"
          ]
        },
        {
          "output_type": "stream",
          "name": "stderr",
          "text": [
            "WARNING:tensorflow:Can save best model only with val_loss available, skipping.\n",
            "WARNING:tensorflow:Early stopping conditioned on metric `val_loss` which is not available. Available metrics are: loss\n"
          ]
        },
        {
          "output_type": "stream",
          "name": "stdout",
          "text": [
            "\b\b\b\b\b\b\b\b\b\b\b\b\b\b\b\b\b\b\b\b\b\b\b\b\b\b\b\b\b\b\b\b\b\b\b\b\b\b\b\b\b\b\b\b\b\b\b\b\b\b\b\b\b\b\b\b\b\b\b\b\b\r1/1 [==============================] - 9s 9s/step - loss: 1.1242\n",
            "Epoch 17/50\n",
            "1/1 [==============================] - ETA: 0s - loss: 1.1185"
          ]
        },
        {
          "output_type": "stream",
          "name": "stderr",
          "text": [
            "WARNING:tensorflow:Can save best model only with val_loss available, skipping.\n",
            "WARNING:tensorflow:Early stopping conditioned on metric `val_loss` which is not available. Available metrics are: loss\n"
          ]
        },
        {
          "output_type": "stream",
          "name": "stdout",
          "text": [
            "\b\b\b\b\b\b\b\b\b\b\b\b\b\b\b\b\b\b\b\b\b\b\b\b\b\b\b\b\b\b\b\b\b\b\b\b\b\b\b\b\b\b\b\b\b\b\b\b\b\b\b\b\b\b\b\b\b\b\b\b\b\r1/1 [==============================] - 9s 9s/step - loss: 1.1185\n",
            "Epoch 18/50\n",
            "1/1 [==============================] - ETA: 0s - loss: 1.1111"
          ]
        },
        {
          "output_type": "stream",
          "name": "stderr",
          "text": [
            "WARNING:tensorflow:Can save best model only with val_loss available, skipping.\n",
            "WARNING:tensorflow:Early stopping conditioned on metric `val_loss` which is not available. Available metrics are: loss\n"
          ]
        },
        {
          "output_type": "stream",
          "name": "stdout",
          "text": [
            "\b\b\b\b\b\b\b\b\b\b\b\b\b\b\b\b\b\b\b\b\b\b\b\b\b\b\b\b\b\b\b\b\b\b\b\b\b\b\b\b\b\b\b\b\b\b\b\b\b\b\b\b\b\b\b\b\b\b\b\b\b\r1/1 [==============================] - 10s 10s/step - loss: 1.1111\n",
            "Epoch 19/50\n",
            "1/1 [==============================] - ETA: 0s - loss: 1.1025"
          ]
        },
        {
          "output_type": "stream",
          "name": "stderr",
          "text": [
            "WARNING:tensorflow:Can save best model only with val_loss available, skipping.\n",
            "WARNING:tensorflow:Early stopping conditioned on metric `val_loss` which is not available. Available metrics are: loss\n"
          ]
        },
        {
          "output_type": "stream",
          "name": "stdout",
          "text": [
            "\b\b\b\b\b\b\b\b\b\b\b\b\b\b\b\b\b\b\b\b\b\b\b\b\b\b\b\b\b\b\b\b\b\b\b\b\b\b\b\b\b\b\b\b\b\b\b\b\b\b\b\b\b\b\b\b\b\b\b\b\b\r1/1 [==============================] - 10s 10s/step - loss: 1.1025\n",
            "Epoch 20/50\n",
            "1/1 [==============================] - ETA: 0s - loss: 1.0934"
          ]
        },
        {
          "output_type": "stream",
          "name": "stderr",
          "text": [
            "WARNING:tensorflow:Can save best model only with val_loss available, skipping.\n",
            "WARNING:tensorflow:Early stopping conditioned on metric `val_loss` which is not available. Available metrics are: loss\n"
          ]
        },
        {
          "output_type": "stream",
          "name": "stdout",
          "text": [
            "\b\b\b\b\b\b\b\b\b\b\b\b\b\b\b\b\b\b\b\b\b\b\b\b\b\b\b\b\b\b\b\b\b\b\b\b\b\b\b\b\b\b\b\b\b\b\b\b\b\b\b\b\b\b\b\b\b\b\b\b\b\r1/1 [==============================] - 10s 10s/step - loss: 1.0934\n",
            "Epoch 21/50\n",
            "1/1 [==============================] - ETA: 0s - loss: 1.0851"
          ]
        },
        {
          "output_type": "stream",
          "name": "stderr",
          "text": [
            "WARNING:tensorflow:Can save best model only with val_loss available, skipping.\n",
            "WARNING:tensorflow:Early stopping conditioned on metric `val_loss` which is not available. Available metrics are: loss\n"
          ]
        },
        {
          "output_type": "stream",
          "name": "stdout",
          "text": [
            "\b\b\b\b\b\b\b\b\b\b\b\b\b\b\b\b\b\b\b\b\b\b\b\b\b\b\b\b\b\b\b\b\b\b\b\b\b\b\b\b\b\b\b\b\b\b\b\b\b\b\b\b\b\b\b\b\b\b\b\b\b\r1/1 [==============================] - 9s 9s/step - loss: 1.0851\n",
            "Epoch 22/50\n",
            "1/1 [==============================] - ETA: 0s - loss: 1.0783"
          ]
        },
        {
          "output_type": "stream",
          "name": "stderr",
          "text": [
            "WARNING:tensorflow:Can save best model only with val_loss available, skipping.\n",
            "WARNING:tensorflow:Early stopping conditioned on metric `val_loss` which is not available. Available metrics are: loss\n"
          ]
        },
        {
          "output_type": "stream",
          "name": "stdout",
          "text": [
            "\b\b\b\b\b\b\b\b\b\b\b\b\b\b\b\b\b\b\b\b\b\b\b\b\b\b\b\b\b\b\b\b\b\b\b\b\b\b\b\b\b\b\b\b\b\b\b\b\b\b\b\b\b\b\b\b\b\b\b\b\b\r1/1 [==============================] - 9s 9s/step - loss: 1.0783\n",
            "Epoch 23/50\n",
            "1/1 [==============================] - ETA: 0s - loss: 1.0730"
          ]
        },
        {
          "output_type": "stream",
          "name": "stderr",
          "text": [
            "WARNING:tensorflow:Can save best model only with val_loss available, skipping.\n",
            "WARNING:tensorflow:Early stopping conditioned on metric `val_loss` which is not available. Available metrics are: loss\n"
          ]
        },
        {
          "output_type": "stream",
          "name": "stdout",
          "text": [
            "\b\b\b\b\b\b\b\b\b\b\b\b\b\b\b\b\b\b\b\b\b\b\b\b\b\b\b\b\b\b\b\b\b\b\b\b\b\b\b\b\b\b\b\b\b\b\b\b\b\b\b\b\b\b\b\b\b\b\b\b\b\r1/1 [==============================] - 10s 10s/step - loss: 1.0730\n",
            "Epoch 24/50\n",
            "1/1 [==============================] - ETA: 0s - loss: 1.0678"
          ]
        },
        {
          "output_type": "stream",
          "name": "stderr",
          "text": [
            "WARNING:tensorflow:Can save best model only with val_loss available, skipping.\n",
            "WARNING:tensorflow:Early stopping conditioned on metric `val_loss` which is not available. Available metrics are: loss\n"
          ]
        },
        {
          "output_type": "stream",
          "name": "stdout",
          "text": [
            "\b\b\b\b\b\b\b\b\b\b\b\b\b\b\b\b\b\b\b\b\b\b\b\b\b\b\b\b\b\b\b\b\b\b\b\b\b\b\b\b\b\b\b\b\b\b\b\b\b\b\b\b\b\b\b\b\b\b\b\b\b\r1/1 [==============================] - 9s 9s/step - loss: 1.0678\n",
            "Epoch 25/50\n",
            "1/1 [==============================] - ETA: 0s - loss: 1.0659"
          ]
        },
        {
          "output_type": "stream",
          "name": "stderr",
          "text": [
            "WARNING:tensorflow:Can save best model only with val_loss available, skipping.\n",
            "WARNING:tensorflow:Early stopping conditioned on metric `val_loss` which is not available. Available metrics are: loss\n"
          ]
        },
        {
          "output_type": "stream",
          "name": "stdout",
          "text": [
            "\b\b\b\b\b\b\b\b\b\b\b\b\b\b\b\b\b\b\b\b\b\b\b\b\b\b\b\b\b\b\b\b\b\b\b\b\b\b\b\b\b\b\b\b\b\b\b\b\b\b\b\b\b\b\b\b\b\b\b\b\b\r1/1 [==============================] - 9s 9s/step - loss: 1.0659\n",
            "Epoch 26/50\n",
            "1/1 [==============================] - ETA: 0s - loss: 1.0604"
          ]
        },
        {
          "output_type": "stream",
          "name": "stderr",
          "text": [
            "WARNING:tensorflow:Can save best model only with val_loss available, skipping.\n",
            "WARNING:tensorflow:Early stopping conditioned on metric `val_loss` which is not available. Available metrics are: loss\n"
          ]
        },
        {
          "output_type": "stream",
          "name": "stdout",
          "text": [
            "\b\b\b\b\b\b\b\b\b\b\b\b\b\b\b\b\b\b\b\b\b\b\b\b\b\b\b\b\b\b\b\b\b\b\b\b\b\b\b\b\b\b\b\b\b\b\b\b\b\b\b\b\b\b\b\b\b\b\b\b\b\r1/1 [==============================] - 9s 9s/step - loss: 1.0604\n",
            "Epoch 27/50\n",
            "1/1 [==============================] - ETA: 0s - loss: 1.0520"
          ]
        },
        {
          "output_type": "stream",
          "name": "stderr",
          "text": [
            "WARNING:tensorflow:Can save best model only with val_loss available, skipping.\n",
            "WARNING:tensorflow:Early stopping conditioned on metric `val_loss` which is not available. Available metrics are: loss\n"
          ]
        },
        {
          "output_type": "stream",
          "name": "stdout",
          "text": [
            "\b\b\b\b\b\b\b\b\b\b\b\b\b\b\b\b\b\b\b\b\b\b\b\b\b\b\b\b\b\b\b\b\b\b\b\b\b\b\b\b\b\b\b\b\b\b\b\b\b\b\b\b\b\b\b\b\b\b\b\b\b\r1/1 [==============================] - 10s 10s/step - loss: 1.0520\n",
            "Epoch 28/50\n",
            "1/1 [==============================] - ETA: 0s - loss: 1.0460"
          ]
        },
        {
          "output_type": "stream",
          "name": "stderr",
          "text": [
            "WARNING:tensorflow:Can save best model only with val_loss available, skipping.\n",
            "WARNING:tensorflow:Early stopping conditioned on metric `val_loss` which is not available. Available metrics are: loss\n"
          ]
        },
        {
          "output_type": "stream",
          "name": "stdout",
          "text": [
            "\b\b\b\b\b\b\b\b\b\b\b\b\b\b\b\b\b\b\b\b\b\b\b\b\b\b\b\b\b\b\b\b\b\b\b\b\b\b\b\b\b\b\b\b\b\b\b\b\b\b\b\b\b\b\b\b\b\b\b\b\b\r1/1 [==============================] - 9s 9s/step - loss: 1.0460\n",
            "Epoch 29/50\n",
            "1/1 [==============================] - ETA: 0s - loss: 1.0390"
          ]
        },
        {
          "output_type": "stream",
          "name": "stderr",
          "text": [
            "WARNING:tensorflow:Can save best model only with val_loss available, skipping.\n",
            "WARNING:tensorflow:Early stopping conditioned on metric `val_loss` which is not available. Available metrics are: loss\n"
          ]
        },
        {
          "output_type": "stream",
          "name": "stdout",
          "text": [
            "\b\b\b\b\b\b\b\b\b\b\b\b\b\b\b\b\b\b\b\b\b\b\b\b\b\b\b\b\b\b\b\b\b\b\b\b\b\b\b\b\b\b\b\b\b\b\b\b\b\b\b\b\b\b\b\b\b\b\b\b\b\r1/1 [==============================] - 9s 9s/step - loss: 1.0390\n",
            "Epoch 30/50\n",
            "1/1 [==============================] - ETA: 0s - loss: 1.0326"
          ]
        },
        {
          "output_type": "stream",
          "name": "stderr",
          "text": [
            "WARNING:tensorflow:Can save best model only with val_loss available, skipping.\n",
            "WARNING:tensorflow:Early stopping conditioned on metric `val_loss` which is not available. Available metrics are: loss\n"
          ]
        },
        {
          "output_type": "stream",
          "name": "stdout",
          "text": [
            "\b\b\b\b\b\b\b\b\b\b\b\b\b\b\b\b\b\b\b\b\b\b\b\b\b\b\b\b\b\b\b\b\b\b\b\b\b\b\b\b\b\b\b\b\b\b\b\b\b\b\b\b\b\b\b\b\b\b\b\b\b\r1/1 [==============================] - 9s 9s/step - loss: 1.0326\n",
            "Epoch 31/50\n",
            "1/1 [==============================] - ETA: 0s - loss: 1.0268"
          ]
        },
        {
          "output_type": "stream",
          "name": "stderr",
          "text": [
            "WARNING:tensorflow:Can save best model only with val_loss available, skipping.\n",
            "WARNING:tensorflow:Early stopping conditioned on metric `val_loss` which is not available. Available metrics are: loss\n"
          ]
        },
        {
          "output_type": "stream",
          "name": "stdout",
          "text": [
            "\b\b\b\b\b\b\b\b\b\b\b\b\b\b\b\b\b\b\b\b\b\b\b\b\b\b\b\b\b\b\b\b\b\b\b\b\b\b\b\b\b\b\b\b\b\b\b\b\b\b\b\b\b\b\b\b\b\b\b\b\b\r1/1 [==============================] - 9s 9s/step - loss: 1.0268\n",
            "Epoch 32/50\n",
            "1/1 [==============================] - ETA: 0s - loss: 1.0204"
          ]
        },
        {
          "output_type": "stream",
          "name": "stderr",
          "text": [
            "WARNING:tensorflow:Can save best model only with val_loss available, skipping.\n",
            "WARNING:tensorflow:Early stopping conditioned on metric `val_loss` which is not available. Available metrics are: loss\n"
          ]
        },
        {
          "output_type": "stream",
          "name": "stdout",
          "text": [
            "\b\b\b\b\b\b\b\b\b\b\b\b\b\b\b\b\b\b\b\b\b\b\b\b\b\b\b\b\b\b\b\b\b\b\b\b\b\b\b\b\b\b\b\b\b\b\b\b\b\b\b\b\b\b\b\b\b\b\b\b\b\r1/1 [==============================] - 9s 9s/step - loss: 1.0204\n",
            "Epoch 33/50\n",
            "1/1 [==============================] - ETA: 0s - loss: 1.0139"
          ]
        },
        {
          "output_type": "stream",
          "name": "stderr",
          "text": [
            "WARNING:tensorflow:Can save best model only with val_loss available, skipping.\n",
            "WARNING:tensorflow:Early stopping conditioned on metric `val_loss` which is not available. Available metrics are: loss\n"
          ]
        },
        {
          "output_type": "stream",
          "name": "stdout",
          "text": [
            "\b\b\b\b\b\b\b\b\b\b\b\b\b\b\b\b\b\b\b\b\b\b\b\b\b\b\b\b\b\b\b\b\b\b\b\b\b\b\b\b\b\b\b\b\b\b\b\b\b\b\b\b\b\b\b\b\b\b\b\b\b\r1/1 [==============================] - 9s 9s/step - loss: 1.0139\n",
            "Epoch 34/50\n",
            "1/1 [==============================] - ETA: 0s - loss: 1.0088"
          ]
        },
        {
          "output_type": "stream",
          "name": "stderr",
          "text": [
            "WARNING:tensorflow:Can save best model only with val_loss available, skipping.\n",
            "WARNING:tensorflow:Early stopping conditioned on metric `val_loss` which is not available. Available metrics are: loss\n"
          ]
        },
        {
          "output_type": "stream",
          "name": "stdout",
          "text": [
            "\b\b\b\b\b\b\b\b\b\b\b\b\b\b\b\b\b\b\b\b\b\b\b\b\b\b\b\b\b\b\b\b\b\b\b\b\b\b\b\b\b\b\b\b\b\b\b\b\b\b\b\b\b\b\b\b\b\b\b\b\b\r1/1 [==============================] - 9s 9s/step - loss: 1.0088\n",
            "Epoch 35/50\n",
            "1/1 [==============================] - ETA: 0s - loss: 1.0016"
          ]
        },
        {
          "output_type": "stream",
          "name": "stderr",
          "text": [
            "WARNING:tensorflow:Can save best model only with val_loss available, skipping.\n",
            "WARNING:tensorflow:Early stopping conditioned on metric `val_loss` which is not available. Available metrics are: loss\n"
          ]
        },
        {
          "output_type": "stream",
          "name": "stdout",
          "text": [
            "\b\b\b\b\b\b\b\b\b\b\b\b\b\b\b\b\b\b\b\b\b\b\b\b\b\b\b\b\b\b\b\b\b\b\b\b\b\b\b\b\b\b\b\b\b\b\b\b\b\b\b\b\b\b\b\b\b\b\b\b\b\r1/1 [==============================] - 9s 9s/step - loss: 1.0016\n",
            "Epoch 36/50\n",
            "1/1 [==============================] - ETA: 0s - loss: 0.9963"
          ]
        },
        {
          "output_type": "stream",
          "name": "stderr",
          "text": [
            "WARNING:tensorflow:Can save best model only with val_loss available, skipping.\n",
            "WARNING:tensorflow:Early stopping conditioned on metric `val_loss` which is not available. Available metrics are: loss\n"
          ]
        },
        {
          "output_type": "stream",
          "name": "stdout",
          "text": [
            "\b\b\b\b\b\b\b\b\b\b\b\b\b\b\b\b\b\b\b\b\b\b\b\b\b\b\b\b\b\b\b\b\b\b\b\b\b\b\b\b\b\b\b\b\b\b\b\b\b\b\b\b\b\b\b\b\b\b\b\b\b\r1/1 [==============================] - 9s 9s/step - loss: 0.9963\n",
            "Epoch 37/50\n",
            "1/1 [==============================] - ETA: 0s - loss: 0.9900"
          ]
        },
        {
          "output_type": "stream",
          "name": "stderr",
          "text": [
            "WARNING:tensorflow:Can save best model only with val_loss available, skipping.\n",
            "WARNING:tensorflow:Early stopping conditioned on metric `val_loss` which is not available. Available metrics are: loss\n"
          ]
        },
        {
          "output_type": "stream",
          "name": "stdout",
          "text": [
            "\b\b\b\b\b\b\b\b\b\b\b\b\b\b\b\b\b\b\b\b\b\b\b\b\b\b\b\b\b\b\b\b\b\b\b\b\b\b\b\b\b\b\b\b\b\b\b\b\b\b\b\b\b\b\b\b\b\b\b\b\b\r1/1 [==============================] - 9s 9s/step - loss: 0.9900\n",
            "Epoch 38/50\n",
            "1/1 [==============================] - ETA: 0s - loss: 0.9840"
          ]
        },
        {
          "output_type": "stream",
          "name": "stderr",
          "text": [
            "WARNING:tensorflow:Can save best model only with val_loss available, skipping.\n",
            "WARNING:tensorflow:Early stopping conditioned on metric `val_loss` which is not available. Available metrics are: loss\n"
          ]
        },
        {
          "output_type": "stream",
          "name": "stdout",
          "text": [
            "\b\b\b\b\b\b\b\b\b\b\b\b\b\b\b\b\b\b\b\b\b\b\b\b\b\b\b\b\b\b\b\b\b\b\b\b\b\b\b\b\b\b\b\b\b\b\b\b\b\b\b\b\b\b\b\b\b\b\b\b\b\r1/1 [==============================] - 10s 10s/step - loss: 0.9840\n",
            "Epoch 39/50\n",
            "1/1 [==============================] - ETA: 0s - loss: 0.9787"
          ]
        },
        {
          "output_type": "stream",
          "name": "stderr",
          "text": [
            "WARNING:tensorflow:Can save best model only with val_loss available, skipping.\n",
            "WARNING:tensorflow:Early stopping conditioned on metric `val_loss` which is not available. Available metrics are: loss\n"
          ]
        },
        {
          "output_type": "stream",
          "name": "stdout",
          "text": [
            "\b\b\b\b\b\b\b\b\b\b\b\b\b\b\b\b\b\b\b\b\b\b\b\b\b\b\b\b\b\b\b\b\b\b\b\b\b\b\b\b\b\b\b\b\b\b\b\b\b\b\b\b\b\b\b\b\b\b\b\b\b\r1/1 [==============================] - 10s 10s/step - loss: 0.9787\n",
            "Epoch 40/50\n",
            "1/1 [==============================] - ETA: 0s - loss: 0.9726"
          ]
        },
        {
          "output_type": "stream",
          "name": "stderr",
          "text": [
            "WARNING:tensorflow:Can save best model only with val_loss available, skipping.\n",
            "WARNING:tensorflow:Early stopping conditioned on metric `val_loss` which is not available. Available metrics are: loss\n"
          ]
        },
        {
          "output_type": "stream",
          "name": "stdout",
          "text": [
            "\b\b\b\b\b\b\b\b\b\b\b\b\b\b\b\b\b\b\b\b\b\b\b\b\b\b\b\b\b\b\b\b\b\b\b\b\b\b\b\b\b\b\b\b\b\b\b\b\b\b\b\b\b\b\b\b\b\b\b\b\b\r1/1 [==============================] - 9s 9s/step - loss: 0.9726\n",
            "Epoch 41/50\n",
            "1/1 [==============================] - ETA: 0s - loss: 0.9669"
          ]
        },
        {
          "output_type": "stream",
          "name": "stderr",
          "text": [
            "WARNING:tensorflow:Can save best model only with val_loss available, skipping.\n",
            "WARNING:tensorflow:Early stopping conditioned on metric `val_loss` which is not available. Available metrics are: loss\n"
          ]
        },
        {
          "output_type": "stream",
          "name": "stdout",
          "text": [
            "\b\b\b\b\b\b\b\b\b\b\b\b\b\b\b\b\b\b\b\b\b\b\b\b\b\b\b\b\b\b\b\b\b\b\b\b\b\b\b\b\b\b\b\b\b\b\b\b\b\b\b\b\b\b\b\b\b\b\b\b\b\r1/1 [==============================] - 9s 9s/step - loss: 0.9669\n",
            "Epoch 42/50\n",
            "1/1 [==============================] - ETA: 0s - loss: 0.9626"
          ]
        },
        {
          "output_type": "stream",
          "name": "stderr",
          "text": [
            "WARNING:tensorflow:Can save best model only with val_loss available, skipping.\n",
            "WARNING:tensorflow:Early stopping conditioned on metric `val_loss` which is not available. Available metrics are: loss\n"
          ]
        },
        {
          "output_type": "stream",
          "name": "stdout",
          "text": [
            "\b\b\b\b\b\b\b\b\b\b\b\b\b\b\b\b\b\b\b\b\b\b\b\b\b\b\b\b\b\b\b\b\b\b\b\b\b\b\b\b\b\b\b\b\b\b\b\b\b\b\b\b\b\b\b\b\b\b\b\b\b\r1/1 [==============================] - 10s 10s/step - loss: 0.9626\n",
            "Epoch 43/50\n",
            "1/1 [==============================] - ETA: 0s - loss: 0.9553"
          ]
        },
        {
          "output_type": "stream",
          "name": "stderr",
          "text": [
            "WARNING:tensorflow:Can save best model only with val_loss available, skipping.\n",
            "WARNING:tensorflow:Early stopping conditioned on metric `val_loss` which is not available. Available metrics are: loss\n"
          ]
        },
        {
          "output_type": "stream",
          "name": "stdout",
          "text": [
            "\b\b\b\b\b\b\b\b\b\b\b\b\b\b\b\b\b\b\b\b\b\b\b\b\b\b\b\b\b\b\b\b\b\b\b\b\b\b\b\b\b\b\b\b\b\b\b\b\b\b\b\b\b\b\b\b\b\b\b\b\b\r1/1 [==============================] - 9s 9s/step - loss: 0.9553\n",
            "Epoch 44/50\n",
            "1/1 [==============================] - ETA: 0s - loss: 0.9493"
          ]
        },
        {
          "output_type": "stream",
          "name": "stderr",
          "text": [
            "WARNING:tensorflow:Can save best model only with val_loss available, skipping.\n",
            "WARNING:tensorflow:Early stopping conditioned on metric `val_loss` which is not available. Available metrics are: loss\n"
          ]
        },
        {
          "output_type": "stream",
          "name": "stdout",
          "text": [
            "\b\b\b\b\b\b\b\b\b\b\b\b\b\b\b\b\b\b\b\b\b\b\b\b\b\b\b\b\b\b\b\b\b\b\b\b\b\b\b\b\b\b\b\b\b\b\b\b\b\b\b\b\b\b\b\b\b\b\b\b\b\r1/1 [==============================] - 9s 9s/step - loss: 0.9493\n",
            "Epoch 45/50\n",
            "1/1 [==============================] - ETA: 0s - loss: 0.9448"
          ]
        },
        {
          "output_type": "stream",
          "name": "stderr",
          "text": [
            "WARNING:tensorflow:Can save best model only with val_loss available, skipping.\n",
            "WARNING:tensorflow:Early stopping conditioned on metric `val_loss` which is not available. Available metrics are: loss\n"
          ]
        },
        {
          "output_type": "stream",
          "name": "stdout",
          "text": [
            "\b\b\b\b\b\b\b\b\b\b\b\b\b\b\b\b\b\b\b\b\b\b\b\b\b\b\b\b\b\b\b\b\b\b\b\b\b\b\b\b\b\b\b\b\b\b\b\b\b\b\b\b\b\b\b\b\b\b\b\b\b\r1/1 [==============================] - 9s 9s/step - loss: 0.9448\n",
            "Epoch 46/50\n",
            "1/1 [==============================] - ETA: 0s - loss: 0.9379"
          ]
        },
        {
          "output_type": "stream",
          "name": "stderr",
          "text": [
            "WARNING:tensorflow:Can save best model only with val_loss available, skipping.\n",
            "WARNING:tensorflow:Early stopping conditioned on metric `val_loss` which is not available. Available metrics are: loss\n"
          ]
        },
        {
          "output_type": "stream",
          "name": "stdout",
          "text": [
            "\b\b\b\b\b\b\b\b\b\b\b\b\b\b\b\b\b\b\b\b\b\b\b\b\b\b\b\b\b\b\b\b\b\b\b\b\b\b\b\b\b\b\b\b\b\b\b\b\b\b\b\b\b\b\b\b\b\b\b\b\b\r1/1 [==============================] - 10s 10s/step - loss: 0.9379\n",
            "Epoch 47/50\n",
            "1/1 [==============================] - ETA: 0s - loss: 0.9321"
          ]
        },
        {
          "output_type": "stream",
          "name": "stderr",
          "text": [
            "WARNING:tensorflow:Can save best model only with val_loss available, skipping.\n",
            "WARNING:tensorflow:Early stopping conditioned on metric `val_loss` which is not available. Available metrics are: loss\n"
          ]
        },
        {
          "output_type": "stream",
          "name": "stdout",
          "text": [
            "\b\b\b\b\b\b\b\b\b\b\b\b\b\b\b\b\b\b\b\b\b\b\b\b\b\b\b\b\b\b\b\b\b\b\b\b\b\b\b\b\b\b\b\b\b\b\b\b\b\b\b\b\b\b\b\b\b\b\b\b\b\r1/1 [==============================] - 10s 10s/step - loss: 0.9321\n",
            "Epoch 48/50\n",
            "1/1 [==============================] - ETA: 0s - loss: 0.9267"
          ]
        },
        {
          "output_type": "stream",
          "name": "stderr",
          "text": [
            "WARNING:tensorflow:Can save best model only with val_loss available, skipping.\n",
            "WARNING:tensorflow:Early stopping conditioned on metric `val_loss` which is not available. Available metrics are: loss\n"
          ]
        },
        {
          "output_type": "stream",
          "name": "stdout",
          "text": [
            "\b\b\b\b\b\b\b\b\b\b\b\b\b\b\b\b\b\b\b\b\b\b\b\b\b\b\b\b\b\b\b\b\b\b\b\b\b\b\b\b\b\b\b\b\b\b\b\b\b\b\b\b\b\b\b\b\b\b\b\b\b\r1/1 [==============================] - 10s 10s/step - loss: 0.9267\n",
            "Epoch 49/50\n",
            "1/1 [==============================] - ETA: 0s - loss: 0.9211"
          ]
        },
        {
          "output_type": "stream",
          "name": "stderr",
          "text": [
            "WARNING:tensorflow:Can save best model only with val_loss available, skipping.\n",
            "WARNING:tensorflow:Early stopping conditioned on metric `val_loss` which is not available. Available metrics are: loss\n"
          ]
        },
        {
          "output_type": "stream",
          "name": "stdout",
          "text": [
            "\b\b\b\b\b\b\b\b\b\b\b\b\b\b\b\b\b\b\b\b\b\b\b\b\b\b\b\b\b\b\b\b\b\b\b\b\b\b\b\b\b\b\b\b\b\b\b\b\b\b\b\b\b\b\b\b\b\b\b\b\b\r1/1 [==============================] - 11s 11s/step - loss: 0.9211\n",
            "Epoch 50/50\n",
            "1/1 [==============================] - ETA: 0s - loss: 0.9155"
          ]
        },
        {
          "output_type": "stream",
          "name": "stderr",
          "text": [
            "WARNING:tensorflow:Can save best model only with val_loss available, skipping.\n",
            "WARNING:tensorflow:Early stopping conditioned on metric `val_loss` which is not available. Available metrics are: loss\n"
          ]
        },
        {
          "output_type": "stream",
          "name": "stdout",
          "text": [
            "\b\b\b\b\b\b\b\b\b\b\b\b\b\b\b\b\b\b\b\b\b\b\b\b\b\b\b\b\b\b\b\b\b\b\b\b\b\b\b\b\b\b\b\b\b\b\b\b\b\b\b\b\b\b\b\b\b\b\b\b\b\r1/1 [==============================] - 10s 10s/step - loss: 0.9155\n"
          ]
        }
      ],
      "source": [
        "history = model.fit(train_dataloader, steps_per_epoch=train_steps,epochs= 50,validation_data = val_dataloader,validation_steps =val_steps,callbacks=callback)"
      ]
    },
    {
      "cell_type": "code",
      "execution_count": null,
      "metadata": {
        "id": "8czyw_APpcIv"
      },
      "outputs": [],
      "source": [
        "def predict(ita_text,model):\n",
        "    \n",
        "    # forming integer sequences\n",
        "    seq = tk_inp.texts_to_sequences([ita_text])\n",
        "    # padding the sequences\n",
        "    seq = pad_sequences(seq,maxlen = 20 , padding=\"post\")\n",
        "    \n",
        "    # generating the output from encoder\n",
        "    enc_output,state_h,state_c= model.layers[2](seq)\n",
        "    \n",
        "    # placeholder for predicted output\n",
        "    pred = []\n",
        "    \n",
        "    input_state = [state_h,state_c]\n",
        "    # initailizing the vector for inputing to decoder\n",
        "    current_vec = tf.ones((1,1))\n",
        "    \n",
        "    for i in range(20): # for each word in the input\n",
        "        # passing each word through decoder layer\n",
        "        dec_output,dec_state_h,dec_state_c = model.layers[3](current_vec , input_state)\n",
        "        # passing decoder output through dense  layer\n",
        "        dense = model.layers[4](dec_output)\n",
        "        # taking argmax and getting the word index and updating the current vector\n",
        "        current_vec = np.argmax(dense ,axis = -1)\n",
        "        # updating the decoder states\n",
        "        input_state = [dec_state_h,dec_state_c]\n",
        "        # getting the actual word from the vocab\n",
        "        pred.append(tk_out.index_word[current_vec[0][0]])\n",
        "        \n",
        "        # if the actual word is <end> break the loop\n",
        "        if tk_out.index_word[current_vec[0][0]]==\"<end>\":\n",
        "            break\n",
        "        \n",
        "    return \" \".join(pred)"
      ]
    },
    {
      "cell_type": "code",
      "execution_count": null,
      "metadata": {
        "colab": {
          "base_uri": "https://localhost:8080/"
        },
        "id": "m3JyelenpdKC",
        "outputId": "6579267a-e43c-4ccb-e138-de519116945d"
      },
      "outputs": [
        {
          "output_type": "stream",
          "name": "stderr",
          "text": [
            "51it [00:08,  5.70it/s]"
          ]
        },
        {
          "output_type": "stream",
          "name": "stdout",
          "text": [
            "[4.3891732353810896e-232, 5.635809992474887e-232, 9.025629002083406e-232, 1.0032743411283238e-231, 7.813508425061864e-232, 1.171778691554733e-231, 1.0032743411283238e-231, 1.0032743411283238e-231, 1.0016022933125248e-231, 9.97486269044271e-232, 8.166726842395623e-232, 8.166726842395623e-232, 3.690840039559348e-232, 6.510101141652543e-232, 9.918892480173173e-232, 2.4655814830110698e-232, 1.0032743411283238e-231, 5.635809992474887e-232, 5.635809992474887e-232, 9.853445011990208e-232, 7.204611228887491e-232, 9.918892480173173e-232, 7.813508425061864e-232, 8.166726842395623e-232, 1.171778691554733e-231, 8.396161215621529e-232, 6.085166479973199e-232, 7.107197028258987e-232, 5.635809992474887e-232, 6.333134513676991e-155, 6.325072941044999e-232, 7.813508425061864e-232, 7.107197028258987e-232, 1.1862177682648818e-231, 9.269981669466712e-232, 7.107197028258987e-232, 3.418291552750845e-232, 1.1039000191006554e-231, 3.418291552750845e-232, 5.092529201164552e-232, 7.813508425061864e-232, 9.291879812217675e-232, 7.813508425061864e-232, 1.0032743411283238e-231, 1.171778691554733e-231, 8.166726842395623e-232, 9.97486269044271e-232, 1.4488496539373276e-231, 9.853445011990208e-232, 7.107197028258987e-232, 9.97486269044271e-232]\n",
            "BELU =  1.2417910811131355e-156\n"
          ]
        },
        {
          "output_type": "stream",
          "name": "stderr",
          "text": [
            "\n"
          ]
        }
      ],
      "source": [
        "import nltk.translate.bleu_score as bleu\n",
        "# BELU SCORE\n",
        "BLEU = []\n",
        "np.random.seed(1)\n",
        "test_data = df_val.loc[np.random.choice(df_val.index,size = 50,replace=False)]\n",
        "for ind,i in tqdm(test_data.iterrows(),position=0):\n",
        "    try:\n",
        "        pred = predict(str(i.enc_input),model).split()\n",
        "        act = [str(i.dec_output).split()]\n",
        "        b = bleu.sentence_bleu(act,pred)\n",
        "        #print(b)\n",
        "        BLEU.append(b)\n",
        "        \n",
        "    except:\n",
        "      continue\n",
        "print(BLEU)\n",
        "print(\"BELU = \", np.mean(BLEU))"
      ]
    },
    {
      "cell_type": "code",
      "execution_count": null,
      "metadata": {
        "colab": {
          "base_uri": "https://localhost:8080/"
        },
        "id": "pi1UAenLShkk",
        "outputId": "132f0803-2f59-4381-b1a8-9e9595ce1996"
      },
      "outputs": [
        {
          "output_type": "stream",
          "name": "stdout",
          "text": [
            "INPUT SENTENCE ===>  He is happy.\n",
            "PREDICTED SENTENCE ===>  you <end>\n",
            "ACTUAL SENTENCE ===>  He is happy. <end>\n"
          ]
        }
      ],
      "source": [
        "print(\"INPUT SENTENCE ===> \",df_test.enc_input.values[10])\n",
        "print(\"PREDICTED SENTENCE ===> \",predict(df_test.enc_input.values[10],model))\n",
        "print(\"ACTUAL SENTENCE ===> \",df_test.dec_output.values[10])"
      ]
    },
    {
      "cell_type": "code",
      "execution_count": null,
      "metadata": {
        "colab": {
          "base_uri": "https://localhost:8080/"
        },
        "id": "lyeueHFgS_AA",
        "outputId": "194df47a-ae5e-4190-c226-d8ff2c5752b8"
      },
      "outputs": [
        {
          "output_type": "stream",
          "name": "stdout",
          "text": [
            "INPUT SENTENCE ===>  I'll be back at 6:30.\n",
            "==================================================\n",
            "ACTUAL SENTENCE ===>  I'll be back at 6:30. <end>\n",
            "==================================================\n",
            "BEAM SEARCH OUTPUT ,  SCORE\n",
            "('i is you <end>', -9.796676)\n",
            "('i is is <end>', -9.848365)\n",
            "('i is the <end>', -10.041749)\n"
          ]
        }
      ],
      "source": [
        "print(\"INPUT SENTENCE ===> \",df_test.enc_input.values[19])\n",
        "print(\"=\"*50)\n",
        "print(\"ACTUAL SENTENCE ===> \",df_test.dec_output.values[19])\n",
        "print(\"=\"*50)\n",
        "print(\"BEAM SEARCH OUTPUT ,  SCORE\")\n",
        "bm = (beam_search(df_test.enc_input.values[19],model,3))\n",
        "for i in bm:\n",
        "    print(i)"
      ]
    }
  ],
  "metadata": {
    "colab": {
      "collapsed_sections": [],
      "name": "Biderectional_word_level.ipynb",
      "provenance": [],
      "authorship_tag": "ABX9TyOKvCDP2Cub8oSitIhTkv8/",
      "include_colab_link": true
    },
    "kernelspec": {
      "display_name": "Python 3",
      "name": "python3"
    },
    "language_info": {
      "name": "python"
    }
  },
  "nbformat": 4,
  "nbformat_minor": 0
}